{
 "cells": [
  {
   "cell_type": "code",
   "execution_count": 6,
   "metadata": {},
   "outputs": [],
   "source": [
    "import toponetx\n",
    "from toponetx.transform.graph_to_simplicial_complex import graph_to_neighbor_complex\n",
    "import networkx as nx"
   ]
  },
  {
   "cell_type": "code",
   "execution_count": 10,
   "metadata": {},
   "outputs": [
    {
     "name": "stdout",
     "output_type": "stream",
     "text": [
      "Graph with 6 nodes and 8 edges\n"
     ]
    }
   ],
   "source": [
    "g = nx.Graph()\n",
    "g.add_nodes_from([1,2,3,4,5,6])\n",
    "g.add_edges_from([(1,2),(1,3),(1,4),(2,3),(2,4),(2,5),(3,4),(5,6)])\n",
    "print(g)"
   ]
  },
  {
   "cell_type": "code",
   "execution_count": 11,
   "metadata": {},
   "outputs": [
    {
     "name": "stdout",
     "output_type": "stream",
     "text": [
      "frozenset({1})\n",
      "frozenset({2})\n",
      "frozenset({3})\n",
      "frozenset({4})\n",
      "frozenset({5})\n",
      "frozenset({6})\n",
      "frozenset({1, 2})\n",
      "frozenset({1, 3})\n",
      "frozenset({1, 4})\n",
      "frozenset({2, 3})\n",
      "frozenset({2, 4})\n",
      "frozenset({3, 4})\n",
      "frozenset({1, 5})\n",
      "frozenset({2, 5})\n",
      "frozenset({3, 5})\n",
      "frozenset({4, 5})\n",
      "frozenset({2, 6})\n",
      "frozenset({5, 6})\n",
      "frozenset({1, 2, 3})\n",
      "frozenset({1, 2, 4})\n",
      "frozenset({1, 3, 4})\n",
      "frozenset({2, 3, 4})\n",
      "frozenset({1, 2, 5})\n",
      "frozenset({1, 3, 5})\n",
      "frozenset({1, 4, 5})\n",
      "frozenset({2, 3, 5})\n",
      "frozenset({2, 4, 5})\n",
      "frozenset({3, 4, 5})\n",
      "frozenset({2, 5, 6})\n",
      "frozenset({1, 2, 3, 4})\n",
      "frozenset({1, 2, 3, 5})\n",
      "frozenset({1, 2, 4, 5})\n",
      "frozenset({1, 3, 4, 5})\n",
      "frozenset({2, 3, 4, 5})\n",
      "frozenset({1, 2, 3, 4, 5})\n"
     ]
    }
   ],
   "source": [
    "simplicial = graph_to_neighbor_complex(g)\n",
    "for ss in simplicial.simplices:\n",
    "    print(ss)"
   ]
  },
  {
   "cell_type": "code",
   "execution_count": 145,
   "metadata": {},
   "outputs": [
    {
     "name": "stdout",
     "output_type": "stream",
     "text": [
      "[[ 4. -1. -1. -1. -1.  0.]\n",
      " [-1.  5. -1. -1. -1. -1.]\n",
      " [-1. -1.  4. -1. -1.  0.]\n",
      " [-1. -1. -1.  4. -1.  0.]\n",
      " [-1. -1. -1. -1.  5. -1.]\n",
      " [ 0. -1.  0.  0. -1.  2.]]\n"
     ]
    }
   ],
   "source": [
    "print(simplicial.up_laplacian_matrix(0).toarray())"
   ]
  },
  {
   "cell_type": "code",
   "execution_count": 20,
   "metadata": {},
   "outputs": [],
   "source": [
    "import torch_geometric\n",
    "import torch"
   ]
  },
  {
   "cell_type": "code",
   "execution_count": 21,
   "metadata": {},
   "outputs": [],
   "source": [
    "from itertools import combinations"
   ]
  },
  {
   "cell_type": "code",
   "execution_count": 174,
   "metadata": {},
   "outputs": [],
   "source": [
    "class CliqueComplexLifting(torch_geometric.transforms.BaseTransform):\n",
    "    def __init__(self, complex_dim=2):\n",
    "        super().__init__()\n",
    "        self.complex_dim = complex_dim\n",
    "        self.added_fields = []\n",
    "        for i in range(1, complex_dim+1):\n",
    "            self.added_fields += [f\"incidence_{i}\", f\"laplacian_down_{i}\", f\"laplacian_up_{i}\"]\n",
    "\n",
    "    def forward(self, data: torch_geometric.data.Data) -> dict:\n",
    "        results = {}\n",
    "        n_nodes = data.x.shape[0]\n",
    "        edge_index = torch_geometric.utils.to_undirected(data.edge_index)\n",
    "        simplices = [set() for _ in range(self.complex_dim+1)]\n",
    "        for n in range(n_nodes):\n",
    "            neighbors, _, _, _ = torch_geometric.utils.k_hop_subgraph(\n",
    "                n, 1, edge_index\n",
    "            )\n",
    "            if n not in neighbors:\n",
    "                neighbors.append(n)\n",
    "            neighbors = neighbors.numpy()\n",
    "            neighbors = set(neighbors)\n",
    "            for i in range(self.complex_dim+1):\n",
    "                for c in combinations(neighbors, i+1):\n",
    "                    simplices[i].add(tuple(c))\n",
    "                    \n",
    "        for i in range(self.complex_dim+1):\n",
    "            simplices[i] = list(simplices[i])\n",
    "            print(len(simplices[i]))\n",
    "            print(simplices[i])\n",
    "            print(\"-----------------------------\")\n",
    "        incidences = [torch.zeros(len(simplices[i]), len(simplices[i+1])) for i in range(self.complex_dim)]\n",
    "        laplacians_up = [torch.zeros(len(simplices[i]), len(simplices[i])) for i in range(self.complex_dim)]\n",
    "        laplacians_down = [torch.zeros(len(simplices[i+1]), len(simplices[i+1])) for i in range(self.complex_dim)]\n",
    "        for i in range(self.complex_dim):\n",
    "            for idx_i, s_i in enumerate(simplices[i]):\n",
    "                for idx_i_1, s_i_1 in enumerate(simplices[i+1]):\n",
    "                    if all(e in s_i_1 for e in s_i):\n",
    "                        incidences[i][idx_i][idx_i_1] = 1\n",
    "            degree = torch.diag(torch.sum(incidences[i],dim=1))\n",
    "            laplacians_up[i] = 2*degree - torch.mm(incidences[i],torch.transpose(incidences[i],1,0))\n",
    "            degree = torch.diag(torch.sum(incidences[i],dim=0))\n",
    "            laplacians_down[i] = 2*degree - torch.mm(torch.transpose(incidences[i],1,0),incidences[i])\n",
    "                        \n",
    "        for i, field in enumerate(self.added_fields):\n",
    "            if i%3==0:\n",
    "                results[field] = incidences[int(i/3)]\n",
    "            if i%3==1:\n",
    "                results[field] = laplacians_up[int(i/3)]\n",
    "            if i%3==2:\n",
    "                results[field] = laplacians_down[int(i/3)]\n",
    "        return results"
   ]
  },
  {
   "cell_type": "code",
   "execution_count": 175,
   "metadata": {},
   "outputs": [],
   "source": [
    "data = torch_geometric.data.Data()\n",
    "data.x = torch.zeros([6,1])\n",
    "data.edge_index = torch.tensor([[0,0,0,1,1,1,2,4],[1,2,3,2,3,4,3,5]])"
   ]
  },
  {
   "cell_type": "code",
   "execution_count": 176,
   "metadata": {},
   "outputs": [
    {
     "name": "stdout",
     "output_type": "stream",
     "text": [
      "6\n",
      "[(2,), (5,), (4,), (1,), (0,), (3,)]\n",
      "-----------------------------\n",
      "12\n",
      "[(0, 1), (2, 4), (1, 2), (0, 4), (3, 4), (1, 5), (0, 3), (1, 4), (2, 3), (0, 2), (4, 5), (1, 3)]\n",
      "-----------------------------\n",
      "11\n",
      "[(0, 1, 4), (0, 2, 4), (0, 3, 4), (0, 1, 3), (1, 2, 3), (0, 2, 3), (1, 3, 4), (2, 3, 4), (0, 1, 2), (1, 4, 5), (1, 2, 4)]\n",
      "-----------------------------\n"
     ]
    }
   ],
   "source": [
    "lift = CliqueComplexLifting()\n",
    "\n",
    "results = lift(data)"
   ]
  },
  {
   "cell_type": "code",
   "execution_count": 177,
   "metadata": {},
   "outputs": [
    {
     "name": "stdout",
     "output_type": "stream",
     "text": [
      "incidence_1\n",
      "tensor([[0., 1., 1., 0., 0., 0., 0., 0., 1., 1., 0., 0.],\n",
      "        [0., 0., 0., 0., 0., 1., 0., 0., 0., 0., 1., 0.],\n",
      "        [0., 1., 0., 1., 1., 0., 0., 1., 0., 0., 1., 0.],\n",
      "        [1., 0., 1., 0., 0., 1., 0., 1., 0., 0., 0., 1.],\n",
      "        [1., 0., 0., 1., 0., 0., 1., 0., 0., 1., 0., 0.],\n",
      "        [0., 0., 0., 0., 1., 0., 1., 0., 1., 0., 0., 1.]])\n",
      "laplacian_down_1\n",
      "tensor([[ 4.,  0., -1., -1., -1., -1.],\n",
      "        [ 0.,  2., -1., -1.,  0.,  0.],\n",
      "        [-1., -1.,  5., -1., -1., -1.],\n",
      "        [-1., -1., -1.,  5., -1., -1.],\n",
      "        [-1.,  0., -1., -1.,  4., -1.],\n",
      "        [-1.,  0., -1., -1., -1.,  4.]])\n",
      "laplacian_up_1\n",
      "tensor([[ 2.,  0., -1., -1.,  0., -1., -1., -1.,  0., -1.,  0., -1.],\n",
      "        [ 0.,  2., -1., -1., -1.,  0.,  0., -1., -1., -1., -1.,  0.],\n",
      "        [-1., -1.,  2.,  0.,  0., -1.,  0., -1., -1., -1.,  0., -1.],\n",
      "        [-1., -1.,  0.,  2., -1.,  0., -1., -1.,  0., -1., -1.,  0.],\n",
      "        [ 0., -1.,  0., -1.,  2.,  0., -1., -1., -1.,  0., -1., -1.],\n",
      "        [-1.,  0., -1.,  0.,  0.,  2.,  0., -1.,  0.,  0., -1., -1.],\n",
      "        [-1.,  0.,  0., -1., -1.,  0.,  2.,  0., -1., -1.,  0., -1.],\n",
      "        [-1., -1., -1., -1., -1., -1.,  0.,  2.,  0.,  0., -1., -1.],\n",
      "        [ 0., -1., -1.,  0., -1.,  0., -1.,  0.,  2., -1.,  0., -1.],\n",
      "        [-1., -1., -1., -1.,  0.,  0., -1.,  0., -1.,  2.,  0.,  0.],\n",
      "        [ 0., -1.,  0., -1., -1., -1.,  0., -1.,  0.,  0.,  2.,  0.],\n",
      "        [-1.,  0., -1.,  0., -1., -1., -1., -1., -1.,  0.,  0.,  2.]])\n",
      "incidence_2\n",
      "tensor([[1., 0., 0., 1., 0., 0., 0., 0., 1., 0., 0.],\n",
      "        [0., 1., 0., 0., 0., 0., 0., 1., 0., 0., 1.],\n",
      "        [0., 0., 0., 0., 1., 0., 0., 0., 1., 0., 1.],\n",
      "        [1., 1., 1., 0., 0., 0., 0., 0., 0., 0., 0.],\n",
      "        [0., 0., 1., 0., 0., 0., 1., 1., 0., 0., 0.],\n",
      "        [0., 0., 0., 0., 0., 0., 0., 0., 0., 1., 0.],\n",
      "        [0., 0., 1., 1., 0., 1., 0., 0., 0., 0., 0.],\n",
      "        [1., 0., 0., 0., 0., 0., 1., 0., 0., 1., 1.],\n",
      "        [0., 0., 0., 0., 1., 1., 0., 1., 0., 0., 0.],\n",
      "        [0., 1., 0., 0., 0., 1., 0., 0., 1., 0., 0.],\n",
      "        [0., 0., 0., 0., 0., 0., 0., 0., 0., 1., 0.],\n",
      "        [0., 0., 0., 1., 1., 0., 1., 0., 0., 0., 0.]])\n",
      "laplacian_down_2\n",
      "tensor([[ 3.,  0., -1., -1.,  0.,  0., -1., -1.,  0., -1.,  0., -1.],\n",
      "        [ 0.,  3., -1., -1., -1.,  0.,  0., -1., -1., -1.,  0.,  0.],\n",
      "        [-1., -1.,  3.,  0.,  0.,  0.,  0., -1., -1., -1.,  0., -1.],\n",
      "        [-1., -1.,  0.,  3., -1.,  0., -1., -1.,  0., -1.,  0.,  0.],\n",
      "        [ 0., -1.,  0., -1.,  3.,  0., -1., -1., -1.,  0.,  0., -1.],\n",
      "        [ 0.,  0.,  0.,  0.,  0.,  1.,  0., -1.,  0.,  0., -1.,  0.],\n",
      "        [-1.,  0.,  0., -1., -1.,  0.,  3.,  0., -1., -1.,  0., -1.],\n",
      "        [-1., -1., -1., -1., -1., -1.,  0.,  4.,  0.,  0., -1., -1.],\n",
      "        [ 0., -1., -1.,  0., -1.,  0., -1.,  0.,  3., -1.,  0., -1.],\n",
      "        [-1., -1., -1., -1.,  0.,  0., -1.,  0., -1.,  3.,  0.,  0.],\n",
      "        [ 0.,  0.,  0.,  0.,  0., -1.,  0., -1.,  0.,  0.,  1.,  0.],\n",
      "        [-1.,  0., -1.,  0., -1.,  0., -1., -1., -1.,  0.,  0.,  3.]])\n",
      "laplacian_up_2\n",
      "tensor([[ 3., -1., -1., -1.,  0.,  0., -1.,  0., -1., -1., -1.],\n",
      "        [-1.,  3., -1.,  0.,  0., -1.,  0., -1., -1.,  0., -1.],\n",
      "        [-1., -1.,  3., -1.,  0., -1., -1., -1.,  0.,  0.,  0.],\n",
      "        [-1.,  0., -1.,  3., -1., -1., -1.,  0., -1.,  0.,  0.],\n",
      "        [ 0.,  0.,  0., -1.,  3., -1., -1., -1., -1.,  0., -1.],\n",
      "        [ 0., -1., -1., -1., -1.,  3.,  0., -1., -1.,  0.,  0.],\n",
      "        [-1.,  0., -1., -1., -1.,  0.,  3., -1.,  0., -1., -1.],\n",
      "        [ 0., -1., -1.,  0., -1., -1., -1.,  3.,  0.,  0., -1.],\n",
      "        [-1., -1.,  0., -1., -1., -1.,  0.,  0.,  3.,  0., -1.],\n",
      "        [-1.,  0.,  0.,  0.,  0.,  0., -1.,  0.,  0.,  3., -1.],\n",
      "        [-1., -1.,  0.,  0., -1.,  0., -1., -1., -1., -1.,  3.]])\n"
     ]
    }
   ],
   "source": [
    "for key in lift.added_fields:\n",
    "    print(key)\n",
    "    print(results[key])"
   ]
  },
  {
   "cell_type": "code",
   "execution_count": 178,
   "metadata": {},
   "outputs": [],
   "source": [
    "import networkx as nx"
   ]
  },
  {
   "cell_type": "code",
   "execution_count": 182,
   "metadata": {},
   "outputs": [],
   "source": [
    "class CellCyclesLifting(torch_geometric.transforms.BaseTransform):\n",
    "    def __init__(self, aggregation=\"sum\"):\n",
    "        super().__init__()\n",
    "        self.added_fields = []\n",
    "        self.aggregation = aggregation\n",
    "        self.added_fields = [\"x1\", \n",
    "                             \"incidence_1\", \n",
    "                             \"laplacian_down_1\", \n",
    "                             \"laplacian_up_1\",\n",
    "                             \"incidence_2\", \n",
    "                             \"laplacian_down_2\", \n",
    "                             \"laplacian_up_2\"]\n",
    "\n",
    "    def forward(self, data: torch_geometric.data.Data) -> dict:\n",
    "        results = {}\n",
    "        n_nodes = data.x.shape[0]\n",
    "        edge_index = torch_geometric.utils.to_undirected(data.edge_index)\n",
    "        neighborhood = torch.zeros((n_nodes,n_nodes))\n",
    "        print(edge_index.to_dense())\n",
    "        \n",
    "        return results"
   ]
  },
  {
   "cell_type": "code",
   "execution_count": 183,
   "metadata": {},
   "outputs": [
    {
     "name": "stdout",
     "output_type": "stream",
     "text": [
      "tensor([[0, 0, 0, 1, 1, 1, 1, 2, 2, 2, 3, 3, 3, 4, 4, 5],\n",
      "        [1, 2, 3, 0, 2, 3, 4, 0, 1, 3, 0, 1, 2, 1, 5, 4]])\n"
     ]
    }
   ],
   "source": [
    "lift2 = CellCyclesLifting()\n",
    "\n",
    "results = lift2(data)"
   ]
  },
  {
   "cell_type": "code",
   "execution_count": null,
   "metadata": {},
   "outputs": [],
   "source": []
  },
  {
   "cell_type": "code",
   "execution_count": null,
   "metadata": {},
   "outputs": [],
   "source": []
  }
 ],
 "metadata": {
  "kernelspec": {
   "display_name": "Python 3",
   "language": "python",
   "name": "python3"
  },
  "language_info": {
   "codemirror_mode": {
    "name": "ipython",
    "version": 3
   },
   "file_extension": ".py",
   "mimetype": "text/x-python",
   "name": "python",
   "nbconvert_exporter": "python",
   "pygments_lexer": "ipython3",
   "version": "3.11.3"
  },
  "orig_nbformat": 4
 },
 "nbformat": 4,
 "nbformat_minor": 2
}
