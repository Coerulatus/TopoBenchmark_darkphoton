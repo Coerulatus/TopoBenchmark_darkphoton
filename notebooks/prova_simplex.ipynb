{
 "cells": [
  {
   "cell_type": "code",
   "execution_count": 3,
   "metadata": {},
   "outputs": [],
   "source": [
    "import networkx as nx\n",
    "import torch_geometric\n",
    "import torch\n",
    "\n",
    "from itertools import combinations\n",
    "\n",
    "# make it autoreload when do changes in py files\n",
    "%load_ext autoreload\n",
    "%autoreload 2\n",
    "from topobenchmarkx.data.liftings.liftings import SimplicialNeighborhoodLifting"
   ]
  },
  {
   "cell_type": "code",
   "execution_count": 4,
   "metadata": {},
   "outputs": [],
   "source": [
    "# mutang dataset from torch geometric\n",
    "from torch_geometric.datasets import TUDataset\n",
    "\n",
    "dataset = TUDataset(root=\"/tmp/MUTAG\", name=\"MUTAG\")"
   ]
  },
  {
   "cell_type": "code",
   "execution_count": 5,
   "metadata": {},
   "outputs": [],
   "source": [
    "lift = SimplicialNeighborhoodLifting()\n",
    "data_lst = [lift(data) for data in dataset]"
   ]
  },
  {
   "cell_type": "code",
   "execution_count": 12,
   "metadata": {},
   "outputs": [
    {
     "ename": "AttributeError",
     "evalue": "'TUDataset' object has no attribute 'split'",
     "output_type": "error",
     "traceback": [
      "\u001b[0;31m---------------------------------------------------------------------------\u001b[0m",
      "\u001b[0;31mAttributeError\u001b[0m                            Traceback (most recent call last)",
      "\u001b[1;32m/TopoBenchmarkX/notebooks/prova_simplex.ipynb Cell 4\u001b[0m line \u001b[0;36m1\n\u001b[0;32m----> <a href='vscode-notebook-cell://attached-container%2B7b22636f6e7461696e65724e616d65223a222f6e696674795f73686f636b6c6579227d@ssh-remote%2Blevtel2/TopoBenchmarkX/notebooks/prova_simplex.ipynb#X23sdnNjb2RlLXJlbW90ZQ%3D%3D?line=0'>1</a>\u001b[0m dataset\u001b[39m.\u001b[39;49msplit()\n",
      "File \u001b[0;32m/usr/local/lib/python3.11/site-packages/torch_geometric/data/in_memory_dataset.py:308\u001b[0m, in \u001b[0;36mInMemoryDataset.__getattr__\u001b[0;34m(self, key)\u001b[0m\n\u001b[1;32m    305\u001b[0m         data_list \u001b[39m=\u001b[39m [\u001b[39mself\u001b[39m\u001b[39m.\u001b[39mget(i) \u001b[39mfor\u001b[39;00m i \u001b[39min\u001b[39;00m \u001b[39mself\u001b[39m\u001b[39m.\u001b[39mindices()]\n\u001b[1;32m    306\u001b[0m         \u001b[39mreturn\u001b[39;00m Batch\u001b[39m.\u001b[39mfrom_data_list(data_list)[key]\n\u001b[0;32m--> 308\u001b[0m \u001b[39mraise\u001b[39;00m \u001b[39mAttributeError\u001b[39;00m(\u001b[39mf\u001b[39m\u001b[39m\"\u001b[39m\u001b[39m'\u001b[39m\u001b[39m{\u001b[39;00m\u001b[39mself\u001b[39m\u001b[39m.\u001b[39m\u001b[39m__class__\u001b[39m\u001b[39m.\u001b[39m\u001b[39m__name__\u001b[39m\u001b[39m}\u001b[39;00m\u001b[39m'\u001b[39m\u001b[39m object has no \u001b[39m\u001b[39m\"\u001b[39m\n\u001b[1;32m    309\u001b[0m                      \u001b[39mf\u001b[39m\u001b[39m\"\u001b[39m\u001b[39mattribute \u001b[39m\u001b[39m'\u001b[39m\u001b[39m{\u001b[39;00mkey\u001b[39m}\u001b[39;00m\u001b[39m'\u001b[39m\u001b[39m\"\u001b[39m)\n",
      "\u001b[0;31mAttributeError\u001b[0m: 'TUDataset' object has no attribute 'split'"
     ]
    }
   ],
   "source": []
  },
  {
   "cell_type": "code",
   "execution_count": 5,
   "metadata": {},
   "outputs": [],
   "source": [
    "# cora dataset from torch geometric\n",
    "from torch_geometric.datasets import Planetoid\n",
    "\n",
    "dataset = Planetoid(root=\"/tmp/Cora\", name=\"Cora\")"
   ]
  },
  {
   "cell_type": "code",
   "execution_count": 6,
   "metadata": {},
   "outputs": [],
   "source": [
    "lift = SimplicialNeighborhoodLifting()\n",
    "\n",
    "data = lift(dataset.data)"
   ]
  },
  {
   "cell_type": "code",
   "execution_count": 8,
   "metadata": {},
   "outputs": [
    {
     "ename": "RuntimeError",
     "evalue": "[enforce fail at alloc_cpu.cpp:75] err == 0. DefaultCPUAllocator: can't allocate memory: you tried to allocate 5239850621184 bytes. Error code 12 (Cannot allocate memory)",
     "output_type": "error",
     "traceback": [
      "\u001b[0;31m---------------------------------------------------------------------------\u001b[0m",
      "\u001b[0;31mRuntimeError\u001b[0m                              Traceback (most recent call last)",
      "\u001b[1;32m/TopoBenchmarkX/notebooks/prova_simplex.ipynb Cell 5\u001b[0m line \u001b[0;36m1\n\u001b[0;32m----> <a href='vscode-notebook-cell://attached-container%2B7b22636f6e7461696e65724e616d65223a222f6e696674795f73686f636b6c6579227d@ssh-remote%2Blevtel2/TopoBenchmarkX/notebooks/prova_simplex.ipynb#X11sdnNjb2RlLXJlbW90ZQ%3D%3D?line=0'>1</a>\u001b[0m data \u001b[39m=\u001b[39m lift(dataset\u001b[39m.\u001b[39;49mdata)\n",
      "File \u001b[0;32m/usr/local/lib/python3.11/site-packages/torch_geometric/transforms/base_transform.py:32\u001b[0m, in \u001b[0;36mBaseTransform.__call__\u001b[0;34m(self, data)\u001b[0m\n\u001b[1;32m     30\u001b[0m \u001b[39mdef\u001b[39;00m \u001b[39m__call__\u001b[39m(\u001b[39mself\u001b[39m, data: Any) \u001b[39m-\u001b[39m\u001b[39m>\u001b[39m Any:\n\u001b[1;32m     31\u001b[0m     \u001b[39m# Shallow-copy the data so that we prevent in-place data modification.\u001b[39;00m\n\u001b[0;32m---> 32\u001b[0m     \u001b[39mreturn\u001b[39;00m \u001b[39mself\u001b[39;49m\u001b[39m.\u001b[39;49mforward(copy\u001b[39m.\u001b[39;49mcopy(data))\n",
      "File \u001b[0;32m/TopoBenchmarkX/topobenchmarkx/data/liftings/liftings.py:89\u001b[0m, in \u001b[0;36mSimplicialNeighborhoodLifting.forward\u001b[0;34m(self, data)\u001b[0m\n\u001b[1;32m     81\u001b[0m incidences \u001b[39m=\u001b[39m [\n\u001b[1;32m     82\u001b[0m     torch\u001b[39m.\u001b[39mzeros(\u001b[39mlen\u001b[39m(simplices[i]), \u001b[39mlen\u001b[39m(simplices[i \u001b[39m+\u001b[39m \u001b[39m1\u001b[39m]))\n\u001b[1;32m     83\u001b[0m     \u001b[39mfor\u001b[39;00m i \u001b[39min\u001b[39;00m \u001b[39mrange\u001b[39m(\u001b[39mself\u001b[39m\u001b[39m.\u001b[39mcomplex_dim)\n\u001b[1;32m     84\u001b[0m ]\n\u001b[1;32m     85\u001b[0m laplacians_up \u001b[39m=\u001b[39m [\n\u001b[1;32m     86\u001b[0m     torch\u001b[39m.\u001b[39mzeros(\u001b[39mlen\u001b[39m(simplices[i]), \u001b[39mlen\u001b[39m(simplices[i]))\n\u001b[1;32m     87\u001b[0m     \u001b[39mfor\u001b[39;00m i \u001b[39min\u001b[39;00m \u001b[39mrange\u001b[39m(\u001b[39mself\u001b[39m\u001b[39m.\u001b[39mcomplex_dim)\n\u001b[1;32m     88\u001b[0m ]\n\u001b[0;32m---> 89\u001b[0m laplacians_down \u001b[39m=\u001b[39m [\n\u001b[1;32m     90\u001b[0m     torch\u001b[39m.\u001b[39;49mzeros(\u001b[39mlen\u001b[39;49m(simplices[i \u001b[39m+\u001b[39;49m \u001b[39m1\u001b[39;49m]), \u001b[39mlen\u001b[39;49m(simplices[i \u001b[39m+\u001b[39;49m \u001b[39m1\u001b[39;49m]))\n\u001b[1;32m     91\u001b[0m     \u001b[39mfor\u001b[39;49;00m i \u001b[39min\u001b[39;49;00m \u001b[39mrange\u001b[39;49m(\u001b[39mself\u001b[39;49m\u001b[39m.\u001b[39;49mcomplex_dim)\n\u001b[1;32m     92\u001b[0m ]\n\u001b[1;32m     93\u001b[0m \u001b[39mfor\u001b[39;00m i \u001b[39min\u001b[39;00m \u001b[39mrange\u001b[39m(\u001b[39mself\u001b[39m\u001b[39m.\u001b[39mcomplex_dim):\n\u001b[1;32m     94\u001b[0m     \u001b[39mfor\u001b[39;00m idx_i, s_i \u001b[39min\u001b[39;00m \u001b[39menumerate\u001b[39m(simplices[i]):\n",
      "File \u001b[0;32m/TopoBenchmarkX/topobenchmarkx/data/liftings/liftings.py:90\u001b[0m, in \u001b[0;36m<listcomp>\u001b[0;34m(.0)\u001b[0m\n\u001b[1;32m     81\u001b[0m incidences \u001b[39m=\u001b[39m [\n\u001b[1;32m     82\u001b[0m     torch\u001b[39m.\u001b[39mzeros(\u001b[39mlen\u001b[39m(simplices[i]), \u001b[39mlen\u001b[39m(simplices[i \u001b[39m+\u001b[39m \u001b[39m1\u001b[39m]))\n\u001b[1;32m     83\u001b[0m     \u001b[39mfor\u001b[39;00m i \u001b[39min\u001b[39;00m \u001b[39mrange\u001b[39m(\u001b[39mself\u001b[39m\u001b[39m.\u001b[39mcomplex_dim)\n\u001b[1;32m     84\u001b[0m ]\n\u001b[1;32m     85\u001b[0m laplacians_up \u001b[39m=\u001b[39m [\n\u001b[1;32m     86\u001b[0m     torch\u001b[39m.\u001b[39mzeros(\u001b[39mlen\u001b[39m(simplices[i]), \u001b[39mlen\u001b[39m(simplices[i]))\n\u001b[1;32m     87\u001b[0m     \u001b[39mfor\u001b[39;00m i \u001b[39min\u001b[39;00m \u001b[39mrange\u001b[39m(\u001b[39mself\u001b[39m\u001b[39m.\u001b[39mcomplex_dim)\n\u001b[1;32m     88\u001b[0m ]\n\u001b[1;32m     89\u001b[0m laplacians_down \u001b[39m=\u001b[39m [\n\u001b[0;32m---> 90\u001b[0m     torch\u001b[39m.\u001b[39;49mzeros(\u001b[39mlen\u001b[39;49m(simplices[i \u001b[39m+\u001b[39;49m \u001b[39m1\u001b[39;49m]), \u001b[39mlen\u001b[39;49m(simplices[i \u001b[39m+\u001b[39;49m \u001b[39m1\u001b[39;49m]))\n\u001b[1;32m     91\u001b[0m     \u001b[39mfor\u001b[39;00m i \u001b[39min\u001b[39;00m \u001b[39mrange\u001b[39m(\u001b[39mself\u001b[39m\u001b[39m.\u001b[39mcomplex_dim)\n\u001b[1;32m     92\u001b[0m ]\n\u001b[1;32m     93\u001b[0m \u001b[39mfor\u001b[39;00m i \u001b[39min\u001b[39;00m \u001b[39mrange\u001b[39m(\u001b[39mself\u001b[39m\u001b[39m.\u001b[39mcomplex_dim):\n\u001b[1;32m     94\u001b[0m     \u001b[39mfor\u001b[39;00m idx_i, s_i \u001b[39min\u001b[39;00m \u001b[39menumerate\u001b[39m(simplices[i]):\n",
      "\u001b[0;31mRuntimeError\u001b[0m: [enforce fail at alloc_cpu.cpp:75] err == 0. DefaultCPUAllocator: can't allocate memory: you tried to allocate 5239850621184 bytes. Error code 12 (Cannot allocate memory)"
     ]
    }
   ],
   "source": []
  },
  {
   "cell_type": "code",
   "execution_count": null,
   "metadata": {},
   "outputs": [],
   "source": [
    "data"
   ]
  },
  {
   "cell_type": "code",
   "execution_count": null,
   "metadata": {},
   "outputs": [],
   "source": []
  },
  {
   "cell_type": "code",
   "execution_count": 17,
   "metadata": {},
   "outputs": [
    {
     "data": {
      "text/plain": [
       "2"
      ]
     },
     "execution_count": 17,
     "metadata": {},
     "output_type": "execute_result"
    }
   ],
   "source": [
    "len(data)"
   ]
  },
  {
   "cell_type": "code",
   "execution_count": 18,
   "metadata": {},
   "outputs": [
    {
     "name": "stderr",
     "output_type": "stream",
     "text": [
      "Downloading https://github.com/kimiyoung/planetoid/raw/master/data/ind.cora.x\n",
      "Downloading https://github.com/kimiyoung/planetoid/raw/master/data/ind.cora.tx\n",
      "Downloading https://github.com/kimiyoung/planetoid/raw/master/data/ind.cora.allx\n",
      "Downloading https://github.com/kimiyoung/planetoid/raw/master/data/ind.cora.y\n",
      "Downloading https://github.com/kimiyoung/planetoid/raw/master/data/ind.cora.ty\n",
      "Downloading https://github.com/kimiyoung/planetoid/raw/master/data/ind.cora.ally\n",
      "Downloading https://github.com/kimiyoung/planetoid/raw/master/data/ind.cora.graph\n",
      "Downloading https://github.com/kimiyoung/planetoid/raw/master/data/ind.cora.test.index\n",
      "Processing...\n",
      "Done!\n"
     ]
    }
   ],
   "source": []
  },
  {
   "cell_type": "code",
   "execution_count": 21,
   "metadata": {},
   "outputs": [
    {
     "name": "stderr",
     "output_type": "stream",
     "text": [
      "Downloading https://www.chrsmrrs.com/graphkerneldatasets/MUTAG.zip\n",
      "Processing...\n",
      "Done!\n"
     ]
    }
   ],
   "source": [
    "# mutang dataset from torch geometric\n",
    "from torch_geometric.datasets import TUDataset\n",
    "\n",
    "dataset = TUDataset(root=\"/tmp/MUTAG\", name=\"MUTAG\")"
   ]
  },
  {
   "cell_type": "code",
   "execution_count": 33,
   "metadata": {},
   "outputs": [
    {
     "data": {
      "text/plain": [
       "torch_geometric.datasets.tu_dataset.TUDataset"
      ]
     },
     "execution_count": 33,
     "metadata": {},
     "output_type": "execute_result"
    }
   ],
   "source": [
    "type(dataset)"
   ]
  },
  {
   "cell_type": "code",
   "execution_count": null,
   "metadata": {},
   "outputs": [],
   "source": []
  }
 ],
 "metadata": {
  "kernelspec": {
   "display_name": "Python 3",
   "language": "python",
   "name": "python3"
  },
  "language_info": {
   "codemirror_mode": {
    "name": "ipython",
    "version": 3
   },
   "file_extension": ".py",
   "mimetype": "text/x-python",
   "name": "python",
   "nbconvert_exporter": "python",
   "pygments_lexer": "ipython3",
   "version": "3.11.3"
  },
  "orig_nbformat": 4
 },
 "nbformat": 4,
 "nbformat_minor": 2
}
