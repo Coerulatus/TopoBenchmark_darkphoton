{
 "cells": [
  {
   "cell_type": "code",
   "execution_count": 1,
   "metadata": {},
   "outputs": [
    {
     "data": {
      "text/plain": [
       "PosixPath('/Users/gbg141/Documents/TopoProjectX/TopoBenchmarkX')"
      ]
     },
     "execution_count": 1,
     "metadata": {},
     "output_type": "execute_result"
    }
   ],
   "source": [
    "%load_ext autoreload\n",
    "%autoreload 2\n",
    "\n",
    "import rootutils\n",
    "\n",
    "rootutils.setup_root(\"./\", indicator=\".project-root\", pythonpath=True)"
   ]
  },
  {
   "cell_type": "code",
   "execution_count": 13,
   "metadata": {},
   "outputs": [],
   "source": [
    "import toponetx\n",
    "from toponetx.transform.graph_to_simplicial_complex import graph_to_neighbor_complex\n",
    "from topobenchmarkx.data.transforms.liftings import *\n",
    "from topobenchmarkx.data.transforms.lifting import LiftingTransform\n",
    "import networkx as nx"
   ]
  },
  {
   "cell_type": "code",
   "execution_count": 7,
   "metadata": {},
   "outputs": [
    {
     "name": "stdout",
     "output_type": "stream",
     "text": [
      "Graph with 6 nodes and 8 edges\n"
     ]
    }
   ],
   "source": [
    "g = nx.Graph()\n",
    "g.add_nodes_from([1, 2, 3, 4, 5, 6])\n",
    "g.add_edges_from([(1, 2), (1, 3), (1, 4), (2, 3), (2, 4), (2, 5), (3, 4), (5, 6)])\n",
    "print(g)"
   ]
  },
  {
   "cell_type": "code",
   "execution_count": 8,
   "metadata": {},
   "outputs": [
    {
     "name": "stdout",
     "output_type": "stream",
     "text": [
      "frozenset({1})\n",
      "frozenset({2})\n",
      "frozenset({3})\n",
      "frozenset({4})\n",
      "frozenset({5})\n",
      "frozenset({6})\n",
      "frozenset({1, 2})\n",
      "frozenset({1, 3})\n",
      "frozenset({1, 4})\n",
      "frozenset({2, 3})\n",
      "frozenset({2, 4})\n",
      "frozenset({3, 4})\n",
      "frozenset({1, 5})\n",
      "frozenset({2, 5})\n",
      "frozenset({3, 5})\n",
      "frozenset({4, 5})\n",
      "frozenset({2, 6})\n",
      "frozenset({5, 6})\n",
      "frozenset({1, 2, 3})\n",
      "frozenset({1, 2, 4})\n",
      "frozenset({1, 3, 4})\n",
      "frozenset({2, 3, 4})\n",
      "frozenset({1, 2, 5})\n",
      "frozenset({1, 3, 5})\n",
      "frozenset({1, 4, 5})\n",
      "frozenset({2, 3, 5})\n",
      "frozenset({2, 4, 5})\n",
      "frozenset({3, 4, 5})\n",
      "frozenset({2, 5, 6})\n",
      "frozenset({1, 2, 3, 4})\n",
      "frozenset({1, 2, 3, 5})\n",
      "frozenset({1, 2, 4, 5})\n",
      "frozenset({1, 3, 4, 5})\n",
      "frozenset({2, 3, 4, 5})\n",
      "frozenset({1, 2, 3, 4, 5})\n"
     ]
    }
   ],
   "source": [
    "simplicial = graph_to_neighbor_complex(g)\n",
    "for ss in simplicial.simplices:\n",
    "    print(ss)"
   ]
  },
  {
   "cell_type": "code",
   "execution_count": 9,
   "metadata": {},
   "outputs": [
    {
     "name": "stdout",
     "output_type": "stream",
     "text": [
      "[[ 4. -1. -1. -1. -1.  0.]\n",
      " [-1.  5. -1. -1. -1. -1.]\n",
      " [-1. -1.  4. -1. -1.  0.]\n",
      " [-1. -1. -1.  4. -1.  0.]\n",
      " [-1. -1. -1. -1.  5. -1.]\n",
      " [ 0. -1.  0.  0. -1.  2.]]\n"
     ]
    }
   ],
   "source": [
    "print(simplicial.up_laplacian_matrix(0).toarray())"
   ]
  },
  {
   "cell_type": "code",
   "execution_count": 10,
   "metadata": {},
   "outputs": [],
   "source": [
    "import torch_geometric\n",
    "import torch"
   ]
  },
  {
   "cell_type": "code",
   "execution_count": 11,
   "metadata": {},
   "outputs": [],
   "source": [
    "from itertools import combinations"
   ]
  },
  {
   "cell_type": "code",
   "execution_count": 35,
   "metadata": {},
   "outputs": [],
   "source": [
    "data = torch_geometric.data.Data()\n",
    "data.x = torch.zeros([6, 1])\n",
    "data.edge_index = torch.tensor([[0, 0, 0, 1, 1, 1, 2, 4], [1, 2, 3, 2, 3, 4, 3, 5]])"
   ]
  },
  {
   "cell_type": "code",
   "execution_count": 36,
   "metadata": {},
   "outputs": [],
   "source": [
    "lift = LiftingTransform(\"SimplicialNeighborhoodLifting\", max_triangles=6)"
   ]
  },
  {
   "cell_type": "code",
   "execution_count": 37,
   "metadata": {},
   "outputs": [],
   "source": [
    "lifted_data = lift(data)"
   ]
  },
  {
   "cell_type": "code",
   "execution_count": 38,
   "metadata": {},
   "outputs": [
    {
     "name": "stdout",
     "output_type": "stream",
     "text": [
      "Data(x=[6, 1], edge_index=[2, 8], incidence_1=[6, 12], laplacian_down_1=[12, 12], laplacian_up_1=[6, 6], incidence_2=[12, 6], laplacian_down_2=[6, 6], laplacian_up_2=[12, 12])\n"
     ]
    }
   ],
   "source": [
    "print(lifted_data)"
   ]
  },
  {
   "cell_type": "code",
   "execution_count": 34,
   "metadata": {},
   "outputs": [
    {
     "data": {
      "text/plain": [
       "Data(x=[6, 1], edge_index=[2, 8], incidence_1=[6, 12], laplacian_down_1=[12, 12], laplacian_up_1=[6, 6], incidence_2=[12, 6], laplacian_down_2=[6, 6], laplacian_up_2=[12, 12])"
      ]
     },
     "execution_count": 34,
     "metadata": {},
     "output_type": "execute_result"
    }
   ],
   "source": [
    "lift.lifting(data)"
   ]
  },
  {
   "cell_type": "code",
   "execution_count": 47,
   "metadata": {},
   "outputs": [
    {
     "name": "stdout",
     "output_type": "stream",
     "text": [
      "[(0,), (1,), (2,), (3,), (4,), (5,)]\n",
      "[(0, 1), (2, 4), (1, 2), (0, 4), (3, 4), (1, 5), (0, 3), (1, 4), (2, 3), (0, 2), (4, 5), (1, 3)]\n",
      "[(0, 2, 4), (0, 1, 2), (0, 1, 3), (1, 2, 3), (0, 1, 4), (1, 4, 5)]\n"
     ]
    }
   ],
   "source": [
    "lift = SimplicialNeighborhoodLifting(max_triangles=6)\n",
    "\n",
    "lifted_data = lift(data)"
   ]
  },
  {
   "cell_type": "code",
   "execution_count": 50,
   "metadata": {},
   "outputs": [
    {
     "name": "stdout",
     "output_type": "stream",
     "text": [
      "tensor([[ 3., -1.,  0.,  0., -1.,  0.],\n",
      "        [-1.,  3., -1., -1., -1.,  0.],\n",
      "        [ 0., -1.,  3., -1., -1.,  0.],\n",
      "        [ 0., -1., -1.,  3.,  0.,  0.],\n",
      "        [-1., -1., -1.,  0.,  3., -1.],\n",
      "        [ 0.,  0.,  0.,  0., -1.,  3.]])\n"
     ]
    }
   ],
   "source": [
    "print(lifted_data.laplacian_down_2.to_dense())"
   ]
  },
  {
   "cell_type": "code",
   "execution_count": 34,
   "metadata": {},
   "outputs": [],
   "source": [
    "lift2 = CellCyclesLifting()\n",
    "\n",
    "lifted_data = lift2(data)"
   ]
  },
  {
   "cell_type": "code",
   "execution_count": 35,
   "metadata": {},
   "outputs": [
    {
     "name": "stdout",
     "output_type": "stream",
     "text": [
      "Data(x=[6, 1], edge_index=[2, 8], incidence_1=[6, 8], incidence_2=[8, 3], laplacian_up_1=[8, 8], laplacian_up_2=[3, 3], laplacian_down_2=[8, 8], laplacian_down_1=[6, 6], x_1=[8, 1])\n"
     ]
    }
   ],
   "source": [
    "print(lifted_data)"
   ]
  },
  {
   "cell_type": "code",
   "execution_count": 36,
   "metadata": {},
   "outputs": [],
   "source": [
    "from topobenchmarkx.data.transforms.liftings import SimplicialCliqueLifting"
   ]
  },
  {
   "cell_type": "code",
   "execution_count": 37,
   "metadata": {},
   "outputs": [
    {
     "name": "stdout",
     "output_type": "stream",
     "text": [
      "[(2,), (5,), (4,), (1,), (0,), (3,)]\n",
      "[(1, 2), (5, 4), (0, 3), (1, 4), (2, 3), (0, 2), (1, 0), (1, 3)]\n",
      "[(0, 2, 3), (1, 0, 2), (1, 0, 3), (1, 2, 3)]\n"
     ]
    }
   ],
   "source": [
    "lift3 = SimplicialCliqueLifting()\n",
    "\n",
    "lifted_data = lift3(data)"
   ]
  },
  {
   "cell_type": "code",
   "execution_count": 40,
   "metadata": {},
   "outputs": [
    {
     "name": "stdout",
     "output_type": "stream",
     "text": [
      "tensor([[ 2.,  0.,  0.,  0., -1., -1., -1., -1.],\n",
      "        [ 0.,  0.,  0.,  0.,  0.,  0.,  0.,  0.],\n",
      "        [ 0.,  0.,  2.,  0., -1., -1., -1., -1.],\n",
      "        [ 0.,  0.,  0.,  0.,  0.,  0.,  0.,  0.],\n",
      "        [-1.,  0., -1.,  0.,  2., -1.,  0., -1.],\n",
      "        [-1.,  0., -1.,  0., -1.,  2., -1.,  0.],\n",
      "        [-1.,  0., -1.,  0.,  0., -1.,  2., -1.],\n",
      "        [-1.,  0., -1.,  0., -1.,  0., -1.,  2.]])\n"
     ]
    }
   ],
   "source": [
    "print(lifted_data.laplacian_up_2.to_dense())"
   ]
  },
  {
   "cell_type": "code",
   "execution_count": null,
   "metadata": {},
   "outputs": [],
   "source": []
  }
 ],
 "metadata": {
  "kernelspec": {
   "display_name": "Python 3",
   "language": "python",
   "name": "python3"
  },
  "language_info": {
   "codemirror_mode": {
    "name": "ipython",
    "version": 3
   },
   "file_extension": ".py",
   "mimetype": "text/x-python",
   "name": "python",
   "nbconvert_exporter": "python",
   "pygments_lexer": "ipython3",
   "version": "3.11.3"
  },
  "orig_nbformat": 4
 },
 "nbformat": 4,
 "nbformat_minor": 2
}
