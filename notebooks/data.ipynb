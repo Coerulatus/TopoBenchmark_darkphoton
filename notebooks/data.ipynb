{
 "cells": [
  {
   "cell_type": "code",
   "execution_count": 2,
   "metadata": {},
   "outputs": [
    {
     "name": "stderr",
     "output_type": "stream",
     "text": [
      "/usr/local/lib/python3.11/site-packages/hydra/experimental/initialize.py:43: UserWarning: hydra.experimental.initialize() is no longer experimental. Use hydra.initialize()\n",
      "  deprecation_warning(message=message)\n",
      "/usr/local/lib/python3.11/site-packages/hydra/experimental/initialize.py:45: UserWarning: \n",
      "The version_base parameter is not specified.\n",
      "Please specify a compatability version level, or None.\n",
      "Will assume defaults for version 1.1\n",
      "  self.delegate = real_initialize(\n"
     ]
    },
    {
     "ename": "ValueError",
     "evalue": "GlobalHydra is already initialized, call GlobalHydra.instance().clear() if you want to re-initialize",
     "output_type": "error",
     "traceback": [
      "\u001b[0;31m---------------------------------------------------------------------------\u001b[0m",
      "\u001b[0;31mValueError\u001b[0m                                Traceback (most recent call last)",
      "\u001b[1;32m/TopoBenchmarkX/notebooks/data.ipynb Cell 1\u001b[0m line \u001b[0;36m8\n\u001b[1;32m      <a href='vscode-notebook-cell://attached-container%2B7b22636f6e7461696e65724e616d65223a222f6e696674795f73686f636b6c6579227d@ssh-remote%2Blevtel2/TopoBenchmarkX/notebooks/data.ipynb#W0sdnNjb2RlLXJlbW90ZQ%3D%3D?line=4'>5</a>\u001b[0m \u001b[39mimport\u001b[39;00m \u001b[39mhydra\u001b[39;00m\n\u001b[1;32m      <a href='vscode-notebook-cell://attached-container%2B7b22636f6e7461696e65724e616d65223a222f6e696674795f73686f636b6c6579227d@ssh-remote%2Blevtel2/TopoBenchmarkX/notebooks/data.ipynb#W0sdnNjb2RlLXJlbW90ZQ%3D%3D?line=5'>6</a>\u001b[0m \u001b[39mfrom\u001b[39;00m \u001b[39mhydra\u001b[39;00m\u001b[39m.\u001b[39;00m\u001b[39mexperimental\u001b[39;00m \u001b[39mimport\u001b[39;00m initialize, compose\n\u001b[0;32m----> <a href='vscode-notebook-cell://attached-container%2B7b22636f6e7461696e65724e616d65223a222f6e696674795f73686f636b6c6579227d@ssh-remote%2Blevtel2/TopoBenchmarkX/notebooks/data.ipynb#W0sdnNjb2RlLXJlbW90ZQ%3D%3D?line=7'>8</a>\u001b[0m initialize(config_path\u001b[39m=\u001b[39;49m\u001b[39m\"\u001b[39;49m\u001b[39m../configs\u001b[39;49m\u001b[39m\"\u001b[39;49m, job_name\u001b[39m=\u001b[39;49m\u001b[39m\"\u001b[39;49m\u001b[39mjob\u001b[39;49m\u001b[39m\"\u001b[39;49m)\n\u001b[1;32m      <a href='vscode-notebook-cell://attached-container%2B7b22636f6e7461696e65724e616d65223a222f6e696674795f73686f636b6c6579227d@ssh-remote%2Blevtel2/TopoBenchmarkX/notebooks/data.ipynb#W0sdnNjb2RlLXJlbW90ZQ%3D%3D?line=8'>9</a>\u001b[0m config \u001b[39m=\u001b[39m compose(config_name\u001b[39m=\u001b[39m\u001b[39m\"\u001b[39m\u001b[39mtrain.yaml\u001b[39m\u001b[39m\"\u001b[39m, return_hydra_config\u001b[39m=\u001b[39m\u001b[39mTrue\u001b[39;00m)\n",
      "File \u001b[0;32m/usr/local/lib/python3.11/site-packages/hydra/experimental/initialize.py:45\u001b[0m, in \u001b[0;36minitialize.__init__\u001b[0;34m(self, config_path, job_name, caller_stack_depth)\u001b[0m\n\u001b[1;32m     41\u001b[0m     \u001b[39mraise\u001b[39;00m \u001b[39mImportError\u001b[39;00m(message)\n\u001b[1;32m     43\u001b[0m deprecation_warning(message\u001b[39m=\u001b[39mmessage)\n\u001b[0;32m---> 45\u001b[0m \u001b[39mself\u001b[39m\u001b[39m.\u001b[39mdelegate \u001b[39m=\u001b[39m real_initialize(\n\u001b[1;32m     46\u001b[0m     config_path\u001b[39m=\u001b[39;49mconfig_path,\n\u001b[1;32m     47\u001b[0m     job_name\u001b[39m=\u001b[39;49mjob_name,\n\u001b[1;32m     48\u001b[0m     caller_stack_depth\u001b[39m=\u001b[39;49mcaller_stack_depth \u001b[39m+\u001b[39;49m \u001b[39m1\u001b[39;49m,\n\u001b[1;32m     49\u001b[0m )\n",
      "File \u001b[0;32m/usr/local/lib/python3.11/site-packages/hydra/initialize.py:91\u001b[0m, in \u001b[0;36minitialize.__init__\u001b[0;34m(self, config_path, job_name, caller_stack_depth, version_base)\u001b[0m\n\u001b[1;32m     86\u001b[0m \u001b[39mif\u001b[39;00m job_name \u001b[39mis\u001b[39;00m \u001b[39mNone\u001b[39;00m:\n\u001b[1;32m     87\u001b[0m     job_name \u001b[39m=\u001b[39m detect_task_name(\n\u001b[1;32m     88\u001b[0m         calling_file\u001b[39m=\u001b[39mcalling_file, calling_module\u001b[39m=\u001b[39mcalling_module\n\u001b[1;32m     89\u001b[0m     )\n\u001b[0;32m---> 91\u001b[0m Hydra\u001b[39m.\u001b[39;49mcreate_main_hydra_file_or_module(\n\u001b[1;32m     92\u001b[0m     calling_file\u001b[39m=\u001b[39;49mcalling_file,\n\u001b[1;32m     93\u001b[0m     calling_module\u001b[39m=\u001b[39;49mcalling_module,\n\u001b[1;32m     94\u001b[0m     config_path\u001b[39m=\u001b[39;49mconfig_path,\n\u001b[1;32m     95\u001b[0m     job_name\u001b[39m=\u001b[39;49mjob_name,\n\u001b[1;32m     96\u001b[0m )\n",
      "File \u001b[0;32m/usr/local/lib/python3.11/site-packages/hydra/_internal/hydra.py:53\u001b[0m, in \u001b[0;36mHydra.create_main_hydra_file_or_module\u001b[0;34m(cls, calling_file, calling_module, config_path, job_name)\u001b[0m\n\u001b[1;32m     41\u001b[0m \u001b[39m@classmethod\u001b[39m\n\u001b[1;32m     42\u001b[0m \u001b[39mdef\u001b[39;00m \u001b[39mcreate_main_hydra_file_or_module\u001b[39m(\n\u001b[1;32m     43\u001b[0m     \u001b[39mcls\u001b[39m: Type[\u001b[39m\"\u001b[39m\u001b[39mHydra\u001b[39m\u001b[39m\"\u001b[39m],\n\u001b[0;32m   (...)\u001b[0m\n\u001b[1;32m     47\u001b[0m     job_name: \u001b[39mstr\u001b[39m,\n\u001b[1;32m     48\u001b[0m ) \u001b[39m-\u001b[39m\u001b[39m>\u001b[39m \u001b[39m\"\u001b[39m\u001b[39mHydra\u001b[39m\u001b[39m\"\u001b[39m:\n\u001b[1;32m     49\u001b[0m     config_search_path \u001b[39m=\u001b[39m create_automatic_config_search_path(\n\u001b[1;32m     50\u001b[0m         calling_file, calling_module, config_path\n\u001b[1;32m     51\u001b[0m     )\n\u001b[0;32m---> 53\u001b[0m     \u001b[39mreturn\u001b[39;00m Hydra\u001b[39m.\u001b[39;49mcreate_main_hydra2(job_name, config_search_path)\n",
      "File \u001b[0;32m/usr/local/lib/python3.11/site-packages/hydra/_internal/hydra.py:68\u001b[0m, in \u001b[0;36mHydra.create_main_hydra2\u001b[0;34m(cls, task_name, config_search_path)\u001b[0m\n\u001b[1;32m     65\u001b[0m hydra \u001b[39m=\u001b[39m \u001b[39mcls\u001b[39m(task_name\u001b[39m=\u001b[39mtask_name, config_loader\u001b[39m=\u001b[39mconfig_loader)\n\u001b[1;32m     66\u001b[0m \u001b[39mfrom\u001b[39;00m \u001b[39mhydra\u001b[39;00m\u001b[39m.\u001b[39;00m\u001b[39mcore\u001b[39;00m\u001b[39m.\u001b[39;00m\u001b[39mglobal_hydra\u001b[39;00m \u001b[39mimport\u001b[39;00m GlobalHydra\n\u001b[0;32m---> 68\u001b[0m GlobalHydra\u001b[39m.\u001b[39;49minstance()\u001b[39m.\u001b[39;49minitialize(hydra)\n\u001b[1;32m     69\u001b[0m \u001b[39mreturn\u001b[39;00m hydra\n",
      "File \u001b[0;32m/usr/local/lib/python3.11/site-packages/hydra/core/global_hydra.py:16\u001b[0m, in \u001b[0;36mGlobalHydra.initialize\u001b[0;34m(self, hydra)\u001b[0m\n\u001b[1;32m     14\u001b[0m \u001b[39massert\u001b[39;00m \u001b[39misinstance\u001b[39m(hydra, Hydra), \u001b[39mf\u001b[39m\u001b[39m\"\u001b[39m\u001b[39mUnexpected Hydra type : \u001b[39m\u001b[39m{\u001b[39;00m\u001b[39mtype\u001b[39m(hydra)\u001b[39m}\u001b[39;00m\u001b[39m\"\u001b[39m\n\u001b[1;32m     15\u001b[0m \u001b[39mif\u001b[39;00m \u001b[39mself\u001b[39m\u001b[39m.\u001b[39mis_initialized():\n\u001b[0;32m---> 16\u001b[0m     \u001b[39mraise\u001b[39;00m \u001b[39mValueError\u001b[39;00m(\n\u001b[1;32m     17\u001b[0m         \u001b[39m\"\u001b[39m\u001b[39mGlobalHydra is already initialized, call GlobalHydra.instance().clear() if you want to re-initialize\u001b[39m\u001b[39m\"\u001b[39m\n\u001b[1;32m     18\u001b[0m     )\n\u001b[1;32m     19\u001b[0m \u001b[39mself\u001b[39m\u001b[39m.\u001b[39mhydra \u001b[39m=\u001b[39m hydra\n",
      "\u001b[0;31mValueError\u001b[0m: GlobalHydra is already initialized, call GlobalHydra.instance().clear() if you want to re-initialize"
     ]
    }
   ],
   "source": [
    "import rootutils\n",
    "\n",
    "rootutils.setup_root(\"./\", indicator=\".project-root\", pythonpath=True)\n",
    "\n",
    "import hydra\n",
    "from hydra.experimental import initialize, compose\n",
    "\n",
    "initialize(config_path=\"../configs\", job_name=\"job\")\n",
    "config = compose(config_name=\"train.yaml\", return_hydra_config=True)"
   ]
  },
  {
   "cell_type": "code",
   "execution_count": null,
   "metadata": {},
   "outputs": [
    {
     "name": "stdout",
     "output_type": "stream",
     "text": [
      "Loading hypergraph dataset name: cora\n",
      "number of nodes:2708, feature dimension: 1433\n",
      "number of hyperedges: 1072\n"
     ]
    }
   ],
   "source": [
    "# Load data\n",
    "from topobenchmarkx.data.load.loaders import HypergraphLoader\n",
    "\n",
    "data_loader = HypergraphLoader(config)\n",
    "data = data_loader.load()"
   ]
  },
  {
   "cell_type": "markdown",
   "metadata": {},
   "source": [
    "### Loss"
   ]
  },
  {
   "cell_type": "code",
   "execution_count": 3,
   "metadata": {},
   "outputs": [],
   "source": [
    "loss = hydra.utils.instantiate(config.model.loss)"
   ]
  },
  {
   "cell_type": "markdown",
   "metadata": {},
   "source": [
    "### Backbone"
   ]
  },
  {
   "cell_type": "code",
   "execution_count": 4,
   "metadata": {},
   "outputs": [
    {
     "data": {
      "text/plain": [
       "AllSetTransformer(\n",
       "  (layers): ModuleList(\n",
       "    (0): AllSetTransformerLayer(\n",
       "      (vertex2edge): AllSetTransformerBlock(\n",
       "        (multihead_att): MultiHeadAttention()\n",
       "        (mlp): MLP(\n",
       "          (0): Linear(in_features=64, out_features=64, bias=False)\n",
       "          (1): ReLU()\n",
       "          (2): Dropout(p=0.2, inplace=False)\n",
       "          (3): Linear(in_features=64, out_features=64, bias=False)\n",
       "          (4): Dropout(p=0.2, inplace=False)\n",
       "        )\n",
       "        (ln0): LayerNorm((64,), eps=1e-05, elementwise_affine=True)\n",
       "        (ln1): LayerNorm((64,), eps=1e-05, elementwise_affine=True)\n",
       "      )\n",
       "      (edge2vertex): AllSetTransformerBlock(\n",
       "        (multihead_att): MultiHeadAttention()\n",
       "        (mlp): MLP(\n",
       "          (0): Linear(in_features=64, out_features=64, bias=False)\n",
       "          (1): ReLU()\n",
       "          (2): Dropout(p=0.2, inplace=False)\n",
       "          (3): Linear(in_features=64, out_features=64, bias=False)\n",
       "          (4): Dropout(p=0.2, inplace=False)\n",
       "        )\n",
       "        (ln0): LayerNorm((64,), eps=1e-05, elementwise_affine=True)\n",
       "        (ln1): LayerNorm((64,), eps=1e-05, elementwise_affine=True)\n",
       "      )\n",
       "    )\n",
       "  )\n",
       ")"
      ]
     },
     "execution_count": 4,
     "metadata": {},
     "output_type": "execute_result"
    }
   ],
   "source": [
    "hydra.utils.instantiate(config.model.backbone)"
   ]
  },
  {
   "cell_type": "markdown",
   "metadata": {},
   "source": [
    "### ReadOut"
   ]
  },
  {
   "cell_type": "code",
   "execution_count": 4,
   "metadata": {},
   "outputs": [],
   "source": [
    "readout = hydra.utils.instantiate(config.model.readout)"
   ]
  },
  {
   "cell_type": "code",
   "execution_count": 5,
   "metadata": {},
   "outputs": [
    {
     "data": {
      "text/plain": [
       "<generator object Module.parameters at 0x7fe978c5a6c0>"
      ]
     },
     "execution_count": 5,
     "metadata": {},
     "output_type": "execute_result"
    }
   ],
   "source": [
    "readout.parameters()"
   ]
  },
  {
   "cell_type": "markdown",
   "metadata": {},
   "source": [
    "### Evaluator"
   ]
  },
  {
   "cell_type": "code",
   "execution_count": 2,
   "metadata": {},
   "outputs": [
    {
     "data": {
      "text/plain": [
       "<topobenchmarkx.evaluators.evaluator.Evaluator at 0x7fd1dd5b0c10>"
      ]
     },
     "execution_count": 2,
     "metadata": {},
     "output_type": "execute_result"
    }
   ],
   "source": [
    "hydra.utils.instantiate(config.model.evaluation)"
   ]
  },
  {
   "cell_type": "markdown",
   "metadata": {},
   "source": [
    "### Dataloader"
   ]
  },
  {
   "cell_type": "code",
   "execution_count": 3,
   "metadata": {},
   "outputs": [
    {
     "name": "stdout",
     "output_type": "stream",
     "text": [
      "Loading hypergraph dataset name: cora\n",
      "number of nodes:2708, feature dimension: 1433\n",
      "number of hyperedges: 1072\n"
     ]
    }
   ],
   "source": [
    "# Load data\n",
    "from topobenchmarkx.data.load.loaders import HypergraphLoader\n",
    "from topobenchmarkx.data.dataloader_fullbatch import FullBatchDataModule\n",
    "\n",
    "data_loader = HypergraphLoader(config)\n",
    "data = data_loader.load()\n",
    "dataloader = FullBatchDataModule(data=data)"
   ]
  },
  {
   "cell_type": "code",
   "execution_count": 5,
   "metadata": {},
   "outputs": [],
   "source": [
    "batch = next(iter(dataloader.train_dataloader()))"
   ]
  },
  {
   "cell_type": "code",
   "execution_count": 12,
   "metadata": {},
   "outputs": [
    {
     "data": {
      "text/plain": [
       "torch.Size([1354, 1433])"
      ]
     },
     "execution_count": 12,
     "metadata": {},
     "output_type": "execute_result"
    }
   ],
   "source": [
    "batch.x[batch.train_mask]"
   ]
  },
  {
   "cell_type": "code",
   "execution_count": null,
   "metadata": {},
   "outputs": [],
   "source": []
  }
 ],
 "metadata": {
  "kernelspec": {
   "display_name": "Python 3 (ipykernel)",
   "language": "python",
   "name": "python3"
  },
  "language_info": {
   "codemirror_mode": {
    "name": "ipython",
    "version": 3
   },
   "file_extension": ".py",
   "mimetype": "text/x-python",
   "name": "python",
   "nbconvert_exporter": "python",
   "pygments_lexer": "ipython3",
   "version": "3.11.3"
  }
 },
 "nbformat": 4,
 "nbformat_minor": 4
}
