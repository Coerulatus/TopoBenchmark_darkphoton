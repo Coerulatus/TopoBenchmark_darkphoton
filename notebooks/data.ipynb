{
 "cells": [
  {
   "cell_type": "code",
   "execution_count": 1,
   "metadata": {},
   "outputs": [
    {
     "name": "stderr",
     "output_type": "stream",
     "text": [
      "/usr/local/lib/python3.11/site-packages/hydra/experimental/initialize.py:43: UserWarning: hydra.experimental.initialize() is no longer experimental. Use hydra.initialize()\n",
      "  deprecation_warning(message=message)\n",
      "/usr/local/lib/python3.11/site-packages/hydra/experimental/initialize.py:45: UserWarning: \n",
      "The version_base parameter is not specified.\n",
      "Please specify a compatability version level, or None.\n",
      "Will assume defaults for version 1.1\n",
      "  self.delegate = real_initialize(\n",
      "/usr/local/lib/python3.11/site-packages/hydra/experimental/compose.py:25: UserWarning: hydra.experimental.compose() is no longer experimental. Use hydra.compose()\n",
      "  deprecation_warning(message=message)\n"
     ]
    }
   ],
   "source": [
    "import rootutils\n",
    "\n",
    "rootutils.setup_root(\"/TopoBenchmarkX\", indicator=\".project-root\", pythonpath=True)\n",
    "\n",
    "from hydra.experimental import initialize, compose\n",
    "\n",
    "initialize(config_path=\"../configs\", job_name=\"job\")\n",
    "config = compose(config_name=\"train.yaml\")"
   ]
  },
  {
   "cell_type": "code",
   "execution_count": 3,
   "metadata": {},
   "outputs": [
    {
     "data": {
      "text/plain": [
       "'cora'"
      ]
     },
     "execution_count": 3,
     "metadata": {},
     "output_type": "execute_result"
    }
   ],
   "source": [
    "config[\"data\"]"
   ]
  },
  {
   "cell_type": "code",
   "execution_count": 14,
   "metadata": {},
   "outputs": [],
   "source": [
    "import torch\n",
    "import pickle\n",
    "import numpy as np\n",
    "\n",
    "import os.path as osp\n",
    "\n",
    "from torch_geometric.data import Data\n",
    "from torch_sparse import coalesce\n",
    "\n",
    "\n",
    "def load_citation_dataset(cfg):\n",
    "    \"\"\"\n",
    "    this will read the citation dataset from HyperGCN, and convert it edge_list to\n",
    "    [[ -V- | -E- ]\n",
    "     [ -E- | -V- ]]\n",
    "    \"\"\"\n",
    "    data_dir = cfg[\"data\"][\"data_dir\"]\n",
    "    print(\n",
    "        f\"Loading {cfg['data']['data_domain']} dataset name: {cfg['data']['data_name']}\"\n",
    "    )\n",
    "\n",
    "    # first load node features:\n",
    "\n",
    "    with open(osp.join(data_dir, \"features.pickle\"), \"rb\") as f:\n",
    "        features = pickle.load(f)\n",
    "        features = features.todense()\n",
    "\n",
    "    # then load node labels:\n",
    "    with open(osp.join(data_dir, \"labels.pickle\"), \"rb\") as f:\n",
    "        labels = pickle.load(f)\n",
    "\n",
    "    num_nodes, feature_dim = features.shape\n",
    "    assert num_nodes == len(labels)\n",
    "    print(f\"number of nodes:{num_nodes}, feature dimension: {feature_dim}\")\n",
    "\n",
    "    features = torch.FloatTensor(features)\n",
    "    labels = torch.LongTensor(labels)\n",
    "\n",
    "    # The last, load hypergraph.\n",
    "    with open(osp.join(data_dir, \"hypergraph.pickle\"), \"rb\") as f:\n",
    "        # hypergraph in hyperGCN is in the form of a dictionary.\n",
    "        # { hyperedge: [list of nodes in the he], ...}\n",
    "        hypergraph = pickle.load(f)\n",
    "\n",
    "    print(f\"number of hyperedges: {len(hypergraph)}\")\n",
    "\n",
    "    edge_idx = num_nodes\n",
    "    node_list = []\n",
    "    edge_list = []\n",
    "    for he in hypergraph.keys():\n",
    "        cur_he = hypergraph[he]\n",
    "        cur_size = len(cur_he)\n",
    "\n",
    "        node_list += list(cur_he)\n",
    "        edge_list += [edge_idx] * cur_size\n",
    "\n",
    "        edge_idx += 1\n",
    "\n",
    "    edge_index = np.array([node_list + edge_list, edge_list + node_list], dtype=int)\n",
    "    edge_index = torch.LongTensor(edge_index)\n",
    "\n",
    "    data = Data(x=features, edge_index=edge_index, y=labels)\n",
    "\n",
    "    # data.coalesce()\n",
    "    # There might be errors if edge_index.max() != num_nodes.\n",
    "    # used user function to override the default function.\n",
    "    # the following will also sort the edge_index and remove duplicates.\n",
    "    total_num_node_id_he_id = edge_index.max() + 1\n",
    "    data.edge_index, data.edge_attr = coalesce(\n",
    "        data.edge_index, None, total_num_node_id_he_id, total_num_node_id_he_id\n",
    "    )\n",
    "\n",
    "    n_x = num_nodes\n",
    "    #     n_x = n_expanded\n",
    "    num_class = len(np.unique(labels.numpy()))\n",
    "    # val_lb = int(n_x * train_percent)\n",
    "    # percls_trn = int(round(train_percent * n_x / num_class))\n",
    "    # data = random_planetoid_splits(data, num_class, percls_trn, val_lb)\n",
    "    data.n_x = n_x\n",
    "    # add parameters to attribute\n",
    "\n",
    "    # data.train_percent = train_percent\n",
    "    data.num_hyperedges = len(hypergraph)\n",
    "\n",
    "    return data"
   ]
  },
  {
   "cell_type": "code",
   "execution_count": 15,
   "metadata": {},
   "outputs": [
    {
     "name": "stdout",
     "output_type": "stream",
     "text": [
      "Loading hypergraph dataset name: cora\n",
      "number of nodes:2708, feature dimension: 1433\n",
      "number of hyperedges: 1072\n"
     ]
    },
    {
     "name": "stderr",
     "output_type": "stream",
     "text": [
      "/tmp/ipykernel_41034/2768844153.py:22: DeprecationWarning: Please use `csr_matrix` from the `scipy.sparse` namespace, the `scipy.sparse.csr` namespace is deprecated.\n",
      "  features = pickle.load(f)\n"
     ]
    },
    {
     "data": {
      "text/plain": [
       "Data(x=[2708, 1433], edge_index=[2, 9170], y=[2708], n_x=2708, num_hyperedges=1072)"
      ]
     },
     "execution_count": 15,
     "metadata": {},
     "output_type": "execute_result"
    }
   ],
   "source": [
    "load_citation_dataset(config)"
   ]
  },
  {
   "cell_type": "code",
   "execution_count": 8,
   "metadata": {},
   "outputs": [
    {
     "data": {
      "text/plain": [
       "'hypergraph'"
      ]
     },
     "execution_count": 8,
     "metadata": {},
     "output_type": "execute_result"
    }
   ],
   "source": []
  },
  {
   "cell_type": "code",
   "execution_count": null,
   "metadata": {},
   "outputs": [],
   "source": []
  }
 ],
 "metadata": {
  "kernelspec": {
   "display_name": "Python 3",
   "language": "python",
   "name": "python3"
  },
  "language_info": {
   "codemirror_mode": {
    "name": "ipython",
    "version": 3
   },
   "file_extension": ".py",
   "mimetype": "text/x-python",
   "name": "python",
   "nbconvert_exporter": "python",
   "pygments_lexer": "ipython3",
   "version": "3.11.3"
  }
 },
 "nbformat": 4,
 "nbformat_minor": 2
}
