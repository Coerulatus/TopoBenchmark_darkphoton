{
 "cells": [
  {
   "cell_type": "code",
   "execution_count": 1,
   "metadata": {},
   "outputs": [
    {
     "name": "stderr",
     "output_type": "stream",
     "text": [
      "/var/folders/95/10br05cj3zs5lc7k18dry7dh0000gn/T/ipykernel_5047/3520126482.py:23: UserWarning: \n",
      "The version_base parameter is not specified.\n",
      "Please specify a compatability version level, or None.\n",
      "Will assume defaults for version 1.1\n",
      "  initialize(config_path=\"../configs\", job_name=\"job\")\n"
     ]
    }
   ],
   "source": [
    "import rootutils\n",
    "\n",
    "rootutils.setup_root(\"./\", indicator=\".project-root\", pythonpath=True)\n",
    "\n",
    "%load_ext autoreload\n",
    "%autoreload 2\n",
    "\n",
    "import torch\n",
    "import torch_geometric\n",
    "from topobenchmarkx.data.datasets import CustomDataset\n",
    "import hydra\n",
    "from hydra import initialize, compose\n",
    "from topobenchmarkx.data.dataloader_fullbatch import FullBatchDataModule\n",
    "from topobenchmarkx.data.load.loaders import (\n",
    "    GraphLoader,\n",
    "    SimplicialLoader,\n",
    "    HypergraphLoader,\n",
    ")\n",
    "from toponetx.classes import CellComplex\n",
    "import networkx as nx\n",
    "from topomodelx.utils.sparse import from_sparse\n",
    "\n",
    "initialize(config_path=\"../configs\", job_name=\"job\")\n",
    "config = compose(config_name=\"train.yaml\", return_hydra_config=True)"
   ]
  },
  {
   "cell_type": "code",
   "execution_count": 2,
   "metadata": {},
   "outputs": [
    {
     "name": "stdout",
     "output_type": "stream",
     "text": [
      "Transform parameters are the same, using existing data_dir: /Users/gbg141/Documents/TopoProjectX/TopoBenchmarkX/datasets/graph/TUDataset/MUTAG/Identity/3446711709\n"
     ]
    }
   ],
   "source": [
    "graph_loader = hydra.utils.instantiate(config.dataset, _recursive_=False)\n",
    "data = graph_loader.load()[0].data_lst[0]"
   ]
  },
  {
   "cell_type": "code",
   "execution_count": 10,
   "metadata": {},
   "outputs": [],
   "source": [
    "def get_complex_connectivity(complex, max_rank):\n",
    "    connectivity = {}\n",
    "    connectivity.update(\n",
    "        {\n",
    "            \"incidence_{}\".format(rank_idx): from_sparse(\n",
    "                complex.incidence_matrix(rank_idx)\n",
    "            )\n",
    "            for rank_idx in range(1, max_rank)\n",
    "        }\n",
    "    )\n",
    "    for rank_idx in range(max_rank + 1):\n",
    "        try:\n",
    "            down_laplacian = from_sparse(complex.down_laplacian_matrix(rank=rank_idx))\n",
    "        except ValueError:\n",
    "            down_laplacian = torch.zeros(\n",
    "                (complex.shape[rank_idx], complex.shape[rank_idx])\n",
    "            ).to_sparse()\n",
    "        # Up laplacian\n",
    "        try:\n",
    "            up_laplacian = from_sparse(complex.up_laplacian_matrix(rank=rank_idx))\n",
    "        except ValueError:\n",
    "            up_laplacian = torch.zeros(\n",
    "                (complex.shape[rank_idx], complex.shape[rank_idx])\n",
    "            ).to_sparse()\n",
    "        hodge_laplacian = down_laplacian + up_laplacian\n",
    "        connectivity.update({\"down_laplacian_{}\".format(rank_idx): down_laplacian})\n",
    "        connectivity.update({\"up_laplacian_{}\".format(rank_idx): up_laplacian})\n",
    "        connectivity.update({\"hodge_laplacian_{}\".format(rank_idx): hodge_laplacian})\n",
    "    connectivity.update({\"shape\": complex.shape})\n",
    "    return connectivity"
   ]
  },
  {
   "cell_type": "code",
   "execution_count": 11,
   "metadata": {},
   "outputs": [],
   "source": [
    "max_rank = 2\n",
    "n_nodes = data.x.shape[0]\n",
    "# edge_index = torch_geometric.utils.to_undirected(data.edge_index)\n",
    "edges = [(i.item(), j.item()) for i, j in zip(data.edge_index[0], data.edge_index[1])]\n",
    "G = nx.Graph()\n",
    "G.add_edges_from(edges)\n",
    "cycles = nx.cycle_basis(G)\n",
    "cell_complex = CellComplex(G)\n",
    "cell_complex.add_cells_from(cycles, rank=max_rank)\n",
    "lifted_topology = get_complex_connectivity(cell_complex, max_rank)"
   ]
  },
  {
   "cell_type": "code",
   "execution_count": 12,
   "metadata": {},
   "outputs": [
    {
     "data": {
      "text/plain": [
       "{'incidence_1': tensor(indices=tensor([[ 0,  0,  1,  1,  2,  2,  2,  3,  3,  3,  4,  4,  5,  5,\n",
       "                          6,  6,  7,  7,  8,  8,  8,  9,  9, 10, 10, 10, 11, 12],\n",
       "                        [ 0,  1,  0,  2,  2,  3,  4,  3,  5,  6,  5,  7,  7,  8,\n",
       "                          8,  9,  4,  9,  6, 10, 11,  1, 10, 11, 12, 13, 12, 13]]),\n",
       "        values=tensor([-1., -1.,  1., -1.,  1., -1., -1.,  1., -1., -1.,  1.,\n",
       "                       -1.,  1., -1.,  1., -1.,  1.,  1.,  1., -1., -1.,  1.,\n",
       "                        1.,  1., -1., -1.,  1.,  1.]),\n",
       "        size=(13, 14), nnz=28, layout=torch.sparse_coo),\n",
       " 'down_laplacian_0': tensor(indices=tensor([], size=(2, 0)),\n",
       "        values=tensor([], size=(0,)),\n",
       "        size=(13, 13), nnz=0, layout=torch.sparse_coo),\n",
       " 'up_laplacian_0': tensor(indices=tensor([[ 0,  0,  0,  1,  1,  1,  2,  2,  2,  2,  3,  3,  3,  3,\n",
       "                          4,  4,  4,  5,  5,  5,  6,  6,  6,  7,  7,  7,  8,  8,\n",
       "                          8,  8,  9,  9,  9, 10, 10, 10, 10, 11, 11, 12, 12],\n",
       "                        [ 0,  1,  9,  0,  1,  2,  1,  2,  3,  7,  2,  3,  4,  8,\n",
       "                          3,  4,  5,  4,  5,  6,  5,  6,  7,  2,  6,  7,  3,  8,\n",
       "                          9, 10,  0,  8,  9,  8, 10, 11, 12, 10, 11, 10, 12]]),\n",
       "        values=tensor([ 2., -1., -1., -1.,  2., -1., -1.,  3., -1., -1., -1.,\n",
       "                        3., -1., -1., -1.,  2., -1., -1.,  2., -1., -1.,  2.,\n",
       "                       -1., -1., -1.,  2., -1.,  3., -1., -1., -1., -1.,  2.,\n",
       "                       -1.,  3., -1., -1., -1.,  1., -1.,  1.]),\n",
       "        size=(13, 13), nnz=41, layout=torch.sparse_coo),\n",
       " 'hodge_laplacian_0': tensor(indices=tensor([[ 0,  0,  0,  1,  1,  1,  2,  2,  2,  2,  3,  3,  3,  3,\n",
       "                          4,  4,  4,  5,  5,  5,  6,  6,  6,  7,  7,  7,  8,  8,\n",
       "                          8,  8,  9,  9,  9, 10, 10, 10, 10, 11, 11, 12, 12],\n",
       "                        [ 0,  1,  9,  0,  1,  2,  1,  2,  3,  7,  2,  3,  4,  8,\n",
       "                          3,  4,  5,  4,  5,  6,  5,  6,  7,  2,  6,  7,  3,  8,\n",
       "                          9, 10,  0,  8,  9,  8, 10, 11, 12, 10, 11, 10, 12]]),\n",
       "        values=tensor([ 2., -1., -1., -1.,  2., -1., -1.,  3., -1., -1., -1.,\n",
       "                        3., -1., -1., -1.,  2., -1., -1.,  2., -1., -1.,  2.,\n",
       "                       -1., -1., -1.,  2., -1.,  3., -1., -1., -1., -1.,  2.,\n",
       "                       -1.,  3., -1., -1., -1.,  1., -1.,  1.]),\n",
       "        size=(13, 13), nnz=41, layout=torch.sparse_coo),\n",
       " 'down_laplacian_1': tensor(indices=tensor([[ 0,  0,  0,  1,  1,  1,  2,  2,  2,  2,  3,  3,  3,  3,\n",
       "                          3,  4,  4,  4,  4,  5,  5,  5,  5,  6,  6,  6,  6,  6,\n",
       "                          7,  7,  7,  8,  8,  8,  9,  9,  9, 10, 10, 10, 10, 11,\n",
       "                         11, 11, 11, 11, 12, 12, 12, 13, 13, 13],\n",
       "                        [ 0,  1,  2,  0,  1, 10,  0,  2,  3,  4,  2,  3,  4,  5,\n",
       "                          6,  2,  3,  4,  9,  3,  5,  6,  7,  3,  5,  6, 10, 11,\n",
       "                          5,  7,  8,  7,  8,  9,  4,  8,  9,  1,  6, 10, 11,  6,\n",
       "                         10, 11, 12, 13, 11, 12, 13, 11, 12, 13]]),\n",
       "        values=tensor([ 2.,  1., -1.,  1.,  2.,  1., -1.,  2., -1., -1., -1.,\n",
       "                        2.,  1., -1., -1., -1.,  1.,  2.,  1., -1.,  2.,  1.,\n",
       "                       -1., -1.,  1.,  2., -1., -1., -1.,  2., -1., -1.,  2.,\n",
       "                       -1.,  1., -1.,  2.,  1., -1.,  2.,  1., -1.,  1.,  2.,\n",
       "                       -1., -1., -1.,  2.,  1., -1.,  1.,  2.]),\n",
       "        size=(14, 14), nnz=52, layout=torch.sparse_coo),\n",
       " 'up_laplacian_1': tensor(indices=tensor([[ 0,  0,  0,  0,  0,  0,  1,  1,  1,  1,  1,  1,  2,  2,\n",
       "                          2,  2,  2,  2,  3,  3,  3,  3,  3,  3,  3,  3,  3,  3,\n",
       "                          3,  4,  4,  4,  4,  4,  4,  5,  5,  5,  5,  5,  5,  6,\n",
       "                          6,  6,  6,  6,  6,  7,  7,  7,  7,  7,  7,  8,  8,  8,\n",
       "                          8,  8,  8,  9,  9,  9,  9,  9,  9, 10, 10, 10, 10, 10,\n",
       "                         10],\n",
       "                        [ 0,  1,  2,  3,  6, 10,  0,  1,  2,  3,  6, 10,  0,  1,\n",
       "                          2,  3,  6, 10,  0,  1,  2,  3,  4,  5,  6,  7,  8,  9,\n",
       "                         10,  3,  4,  5,  7,  8,  9,  3,  4,  5,  7,  8,  9,  0,\n",
       "                          1,  2,  3,  6, 10,  3,  4,  5,  7,  8,  9,  3,  4,  5,\n",
       "                          7,  8,  9,  3,  4,  5,  7,  8,  9,  0,  1,  2,  3,  6,\n",
       "                         10]]),\n",
       "        values=tensor([ 1., -1.,  1.,  1.,  1.,  1., -1.,  1., -1., -1., -1.,\n",
       "                       -1.,  1., -1.,  1.,  1.,  1.,  1.,  1., -1.,  1.,  2.,\n",
       "                       -1.,  1.,  1.,  1.,  1.,  1.,  1., -1.,  1., -1., -1.,\n",
       "                       -1., -1.,  1., -1.,  1.,  1.,  1.,  1.,  1., -1.,  1.,\n",
       "                        1.,  1.,  1.,  1., -1.,  1.,  1.,  1.,  1.,  1., -1.,\n",
       "                        1.,  1.,  1.,  1.,  1., -1.,  1.,  1.,  1.,  1.,  1.,\n",
       "                       -1.,  1.,  1.,  1.,  1.]),\n",
       "        size=(14, 14), nnz=71, layout=torch.sparse_coo),\n",
       " 'hodge_laplacian_1': tensor(indices=tensor([[ 0,  0,  0,  0,  0,  0,  1,  1,  1,  1,  1,  1,  2,  2,\n",
       "                          2,  2,  2,  2,  2,  3,  3,  3,  3,  3,  3,  3,  3,  3,\n",
       "                          3,  3,  4,  4,  4,  4,  4,  4,  4,  5,  5,  5,  5,  5,\n",
       "                          5,  5,  6,  6,  6,  6,  6,  6,  6,  6,  7,  7,  7,  7,\n",
       "                          7,  7,  8,  8,  8,  8,  8,  8,  9,  9,  9,  9,  9,  9,\n",
       "                         10, 10, 10, 10, 10, 10, 10, 11, 11, 11, 11, 11, 12, 12,\n",
       "                         12, 13, 13, 13],\n",
       "                        [ 0,  1,  2,  3,  6, 10,  0,  1,  2,  3,  6, 10,  0,  1,\n",
       "                          2,  3,  4,  6, 10,  0,  1,  2,  3,  4,  5,  6,  7,  8,\n",
       "                          9, 10,  2,  3,  4,  5,  7,  8,  9,  3,  4,  5,  6,  7,\n",
       "                          8,  9,  0,  1,  2,  3,  5,  6, 10, 11,  3,  4,  5,  7,\n",
       "                          8,  9,  3,  4,  5,  7,  8,  9,  3,  4,  5,  7,  8,  9,\n",
       "                          0,  1,  2,  3,  6, 10, 11,  6, 10, 11, 12, 13, 11, 12,\n",
       "                         13, 11, 12, 13]]),\n",
       "        values=tensor([ 3.,  0.,  0.,  1.,  1.,  1.,  0.,  3., -1., -1., -1.,\n",
       "                        0.,  0., -1.,  3.,  0., -1.,  1.,  1.,  1., -1.,  0.,\n",
       "                        4.,  0.,  0.,  0.,  1.,  1.,  1.,  1., -1.,  0.,  3.,\n",
       "                       -1., -1., -1.,  0.,  0., -1.,  3.,  1.,  0.,  1.,  1.,\n",
       "                        1., -1.,  1.,  0.,  1.,  3.,  0., -1.,  1., -1.,  0.,\n",
       "                        3.,  0.,  1.,  1., -1.,  1.,  0.,  3.,  0.,  1.,  0.,\n",
       "                        1.,  1.,  0.,  3.,  1.,  0.,  1.,  1.,  0.,  3.,  1.,\n",
       "                       -1.,  1.,  2., -1., -1., -1.,  2.,  1., -1.,  1.,  2.]),\n",
       "        size=(14, 14), nnz=88, layout=torch.sparse_coo),\n",
       " 'down_laplacian_2': tensor(indices=tensor([[0, 0, 1, 1],\n",
       "                        [0, 1, 0, 1]]),\n",
       "        values=tensor([ 6., -1., -1.,  6.]),\n",
       "        size=(2, 2), nnz=4, layout=torch.sparse_coo),\n",
       " 'up_laplacian_2': tensor(indices=tensor([], size=(2, 0)),\n",
       "        values=tensor([], size=(0,)),\n",
       "        size=(2, 2), nnz=0, layout=torch.sparse_coo),\n",
       " 'hodge_laplacian_2': tensor(indices=tensor([[0, 0, 1, 1],\n",
       "                        [0, 1, 0, 1]]),\n",
       "        values=tensor([ 6., -1., -1.,  6.]),\n",
       "        size=(2, 2), nnz=4, layout=torch.sparse_coo),\n",
       " 'shape': (13, 14, 2)}"
      ]
     },
     "execution_count": 12,
     "metadata": {},
     "output_type": "execute_result"
    }
   ],
   "source": [
    "lifted_topology"
   ]
  },
  {
   "cell_type": "code",
   "execution_count": 12,
   "metadata": {},
   "outputs": [],
   "source": []
  },
  {
   "cell_type": "code",
   "execution_count": 16,
   "metadata": {},
   "outputs": [],
   "source": [
    "cell_complex = CellComplex(G)\n",
    "cell_complex.add_cells_from(cycles, rank=2)"
   ]
  },
  {
   "cell_type": "code",
   "execution_count": 19,
   "metadata": {},
   "outputs": [
    {
     "data": {
      "text/plain": [
       "(13, 14, 2)"
      ]
     },
     "execution_count": 19,
     "metadata": {},
     "output_type": "execute_result"
    }
   ],
   "source": [
    "cell_complex.shape"
   ]
  },
  {
   "cell_type": "code",
   "execution_count": null,
   "metadata": {},
   "outputs": [],
   "source": []
  }
 ],
 "metadata": {
  "kernelspec": {
   "display_name": "venv_topox",
   "language": "python",
   "name": "python3"
  },
  "language_info": {
   "codemirror_mode": {
    "name": "ipython",
    "version": 3
   },
   "file_extension": ".py",
   "mimetype": "text/x-python",
   "name": "python",
   "nbconvert_exporter": "python",
   "pygments_lexer": "ipython3",
   "version": "3.11.3"
  }
 },
 "nbformat": 4,
 "nbformat_minor": 2
}
