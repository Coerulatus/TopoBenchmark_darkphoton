{
 "cells": [
  {
   "cell_type": "code",
   "execution_count": 2,
   "metadata": {},
   "outputs": [],
   "source": [
    "%load_ext autoreload\n",
    "%autoreload 2"
   ]
  },
  {
   "cell_type": "code",
   "execution_count": 11,
   "metadata": {},
   "outputs": [],
   "source": [
    "\"\"\"Test the message passing module.\"\"\"\n",
    "\n",
    "import rootutils\n",
    "import torch\n",
    "\n",
    "rootutils.setup_root(\"./\", indicator=\".project-root\", pythonpath=True)\n",
    "from topobenchmarkx.data.load.loaders import manual_simple_graph\n",
    "from topobenchmarkx.transforms.liftings.graph2cell import CellCycleLifting\n",
    "\n",
    "\n",
    "class TestCellCycleLifting:\n",
    "    \"\"\"Test the CellCycleLifting class.\"\"\"\n",
    "\n",
    "    def setup_method(self):\n",
    "        # Load the graph\n",
    "        self.data = manual_simple_graph()\n",
    "\n",
    "        # Initialise the CellCycleLifting class\n",
    "        self.lifting = CellCycleLifting()\n",
    "\n",
    "    def test_lift_topology(self):\n",
    "        # Test the lift_topology method\n",
    "        lifted_data = self.lifting.forward(self.data.clone())\n",
    "\n",
    "        expected_incidence_1 = torch.tensor(\n",
    "            [\n",
    "                [1.0, 1.0, 1.0, 1.0, 0.0, 0.0, 0.0, 0.0, 0.0, 0.0, 0.0, 0.0, 0.0],\n",
    "                [1.0, 0.0, 0.0, 0.0, 1.0, 1.0, 0.0, 0.0, 0.0, 0.0, 0.0, 0.0, 0.0],\n",
    "                [0.0, 1.0, 0.0, 0.0, 1.0, 0.0, 1.0, 1.0, 1.0, 1.0, 0.0, 0.0, 0.0],\n",
    "                [0.0, 0.0, 0.0, 0.0, 0.0, 0.0, 1.0, 0.0, 0.0, 0.0, 1.0, 0.0, 0.0],\n",
    "                [0.0, 0.0, 1.0, 0.0, 0.0, 1.0, 0.0, 1.0, 0.0, 0.0, 0.0, 0.0, 0.0],\n",
    "                [0.0, 0.0, 0.0, 0.0, 0.0, 0.0, 0.0, 0.0, 1.0, 0.0, 0.0, 1.0, 1.0],\n",
    "                [0.0, 0.0, 0.0, 0.0, 0.0, 0.0, 0.0, 0.0, 0.0, 0.0, 1.0, 1.0, 0.0],\n",
    "                [0.0, 0.0, 0.0, 1.0, 0.0, 0.0, 0.0, 0.0, 0.0, 1.0, 0.0, 0.0, 1.0],\n",
    "            ]\n",
    "        )\n",
    "\n",
    "        assert (\n",
    "            expected_incidence_1 == lifted_data.incidence_1.to_dense()\n",
    "        ).all(), \"Something is wrong with incidence_1.\"\n",
    "\n",
    "        expected_incidence_2 = torch.tensor(\n",
    "            [\n",
    "                [0.0, 0.0, 0.0, 1.0, 0.0, 1.0],\n",
    "                [1.0, 0.0, 0.0, 0.0, 1.0, 1.0],\n",
    "                [0.0, 0.0, 0.0, 1.0, 1.0, 0.0],\n",
    "                [1.0, 0.0, 0.0, 0.0, 0.0, 0.0],\n",
    "                [0.0, 0.0, 0.0, 0.0, 0.0, 1.0],\n",
    "                [0.0, 0.0, 0.0, 1.0, 0.0, 0.0],\n",
    "                [0.0, 0.0, 1.0, 0.0, 0.0, 0.0],\n",
    "                [0.0, 0.0, 0.0, 0.0, 1.0, 0.0],\n",
    "                [0.0, 1.0, 1.0, 0.0, 0.0, 0.0],\n",
    "                [1.0, 1.0, 0.0, 0.0, 0.0, 0.0],\n",
    "                [0.0, 0.0, 1.0, 0.0, 0.0, 0.0],\n",
    "                [0.0, 0.0, 1.0, 0.0, 0.0, 0.0],\n",
    "                [0.0, 1.0, 0.0, 0.0, 0.0, 0.0],\n",
    "            ]\n",
    "        )\n",
    "\n",
    "        assert (\n",
    "            expected_incidence_2 == lifted_data.incidence_2.to_dense()\n",
    "        ).all(), \"Something is wrong with incidence_2.\""
   ]
  },
  {
   "cell_type": "code",
   "execution_count": 12,
   "metadata": {},
   "outputs": [],
   "source": [
    "test = TestCellCycleLifting()\n",
    "test.setup_method()\n",
    "test.test_lift_topology()"
   ]
  },
  {
   "cell_type": "code",
   "execution_count": null,
   "metadata": {},
   "outputs": [],
   "source": []
  }
 ],
 "metadata": {
  "kernelspec": {
   "display_name": "topo",
   "language": "python",
   "name": "python3"
  },
  "language_info": {
   "codemirror_mode": {
    "name": "ipython",
    "version": 3
   },
   "file_extension": ".py",
   "mimetype": "text/x-python",
   "name": "python",
   "nbconvert_exporter": "python",
   "pygments_lexer": "ipython3",
   "version": "3.11.3"
  }
 },
 "nbformat": 4,
 "nbformat_minor": 2
}
