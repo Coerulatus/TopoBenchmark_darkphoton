{
 "cells": [
  {
   "cell_type": "code",
   "execution_count": 1,
   "metadata": {},
   "outputs": [],
   "source": [
    "%load_ext autoreload\n",
    "%autoreload 2"
   ]
  },
  {
   "cell_type": "code",
   "execution_count": 2,
   "metadata": {},
   "outputs": [
    {
     "data": {
      "text/plain": [
       "PosixPath('/TopoBenchmarkX/TopoBenchmarkX')"
      ]
     },
     "execution_count": 2,
     "metadata": {},
     "output_type": "execute_result"
    }
   ],
   "source": [
    "import rootutils\n",
    "rootutils.setup_root(\"./\", indicator=\".project-root\", pythonpath=True)"
   ]
  },
  {
   "cell_type": "code",
   "execution_count": 3,
   "metadata": {},
   "outputs": [],
   "source": [
    "\"\"\"Test the message passing module.\"\"\"\n",
    "import pytest\n",
    "import torch\n",
    "import rootutils\n",
    "\n",
    "\n",
    "from topobenchmarkx.transforms.feature_liftings.feature_liftings import ProjectionLifting\n",
    "from topobenchmarkx.transforms.liftings.graph2simplicial import SimplicialCliqueLifting\n",
    "from topobenchmarkx.io.load.loaders import manual_simple_graph\n",
    "\n",
    "class TestProjectionLifting:\n",
    "    \"\"\"Test the ProjectionLifting class.\"\"\"\n",
    "    def setup_method(self):\n",
    "        # Load the graph\n",
    "        self.data = manual_simple_graph()\n",
    "        \n",
    "        # Initialize a lifting class \n",
    "        self.lifting = SimplicialCliqueLifting(complex_dim=3)\n",
    "        # Initialize the ProjectionLifting class\n",
    "        self.feature_lifting = ProjectionLifting()\n",
    "    \n",
    "    def test_lift_features(self):\n",
    "        # Test the lift_features method\n",
    "        lifted_data = self.lifting.forward(self.data.clone())\n",
    "        del lifted_data.x_1\n",
    "        del lifted_data.x_2\n",
    "        del lifted_data.x_3\n",
    "        lifted_data = self.feature_lifting.forward(lifted_data)\n",
    "        \n",
    "        expected_x1 = torch.tensor([[   6.],\n",
    "                                    [  11.],\n",
    "                                    [ 101.],\n",
    "                                    [5001.],\n",
    "                                    [  15.],\n",
    "                                    [ 105.],\n",
    "                                    [  60.],\n",
    "                                    [ 110.],\n",
    "                                    [ 510.],\n",
    "                                    [5010.],\n",
    "                                    [1050.],\n",
    "                                    [1500.],\n",
    "                                    [5500.]])\n",
    "        \n",
    "        expected_x2 = torch.tensor([[   32.],\n",
    "                                    [  212.],\n",
    "                                    [  222.],\n",
    "                                    [10022.],\n",
    "                                    [  230.],\n",
    "                                    [11020.]])\n",
    "        \n",
    "        expected_x3 = torch.tensor([[696.]])\n",
    "        \n",
    "        assert (expected_x1==lifted_data.x_1).all(), \"Something is wrong with the lifted features x_1.\"\n",
    "        assert (expected_x2==lifted_data.x_2).all(), \"Something is wrong with the lifted features x_2.\"\n",
    "        assert (expected_x3==lifted_data.x_3).all(), \"Something is wrong with the lifted features x_3.\"\n",
    "        "
   ]
  },
  {
   "cell_type": "code",
   "execution_count": 4,
   "metadata": {},
   "outputs": [
    {
     "name": "stderr",
     "output_type": "stream",
     "text": [
      "/usr/local/lib/python3.11/site-packages/scipy/sparse/_index.py:145: SparseEfficiencyWarning: Changing the sparsity structure of a csr_matrix is expensive. lil_matrix is more efficient.\n",
      "  self._set_arrayXarray(i, j, x)\n"
     ]
    }
   ],
   "source": [
    "test = TestProjectionLifting()\n",
    "test.setup_method()\n",
    "test.test_lift_features()"
   ]
  },
  {
   "cell_type": "code",
   "execution_count": 5,
   "metadata": {},
   "outputs": [],
   "source": [
    "\"\"\"Test the message passing module.\"\"\"\n",
    "import pytest\n",
    "import torch\n",
    "import rootutils\n",
    "\n",
    "\n",
    "from topobenchmarkx.transforms.feature_liftings.feature_liftings import ConcatentionLifting\n",
    "from topobenchmarkx.transforms.liftings.graph2simplicial import SimplicialCliqueLifting\n",
    "from topobenchmarkx.io.load.loaders import manual_simple_graph\n",
    "\n",
    "class TestConcatentionLifting:\n",
    "    \"\"\"Test the ConcatentionLifting class.\"\"\"\n",
    "    def setup_method(self):\n",
    "        # Load the graph\n",
    "        self.data = manual_simple_graph()\n",
    "        \n",
    "        # Initialize a lifting class \n",
    "        self.lifting = SimplicialCliqueLifting(complex_dim=3)\n",
    "        # Initialize the ConcatentionLifting class\n",
    "        self.feature_lifting = ConcatentionLifting()\n",
    "    \n",
    "    def test_lift_features(self):\n",
    "        # Test the lift_features method\n",
    "        lifted_data = self.lifting.forward(self.data.clone())\n",
    "        del lifted_data.x_1\n",
    "        del lifted_data.x_2\n",
    "        del lifted_data.x_3\n",
    "        lifted_data = self.feature_lifting.forward(lifted_data)\n",
    "        \n",
    "        expected_x1 = torch.tensor([[   1.,    5.],\n",
    "                                    [   1.,   10.],\n",
    "                                    [   1.,  100.],\n",
    "                                    [   1., 5000.],\n",
    "                                    [   5.,   10.],\n",
    "                                    [   5.,  100.],\n",
    "                                    [  10.,   50.],\n",
    "                                    [  10.,  100.],\n",
    "                                    [  10.,  500.],\n",
    "                                    [  10., 5000.],\n",
    "                                    [  50., 1000.],\n",
    "                                    [ 500., 1000.],\n",
    "                                    [ 500., 5000.]])\n",
    "        \n",
    "        \n",
    "        expected_x2 = torch.tensor([[   1.,    5.,     1.,   10.,    5.,   10.],\n",
    "                                    [   1.,    5.,     1.,  100.,    5.,  100.],\n",
    "                                    [   1.,   10.,     1.,  100.,   10.,  100.],\n",
    "                                    [   1.,   10.,     1., 5000.,   10., 5000.],\n",
    "                                    [   5.,   10.,     5.,  100.,   10.,  100.],\n",
    "                                    [  10.,  500.,    10., 5000.,  500., 5000.]])\n",
    "\n",
    "        expected_x3 = torch.tensor([[  1.,   5.,   1.,  10.,   5.,  10.,   \n",
    "                                       1.,   5.,   1., 100.,   5., 100.,\n",
    "                                       1.,  10.,   1., 100.,  10., 100.,\n",
    "                                       5.,  10.,   5., 100.,  10., 100.]])\n",
    "        \n",
    "        assert (expected_x1==lifted_data.x_1).all(), \"Something is wrong with the lifted features x_1.\"\n",
    "        assert (expected_x2==lifted_data.x_2).all(), \"Something is wrong with the lifted features x_2.\"\n",
    "        assert (expected_x3==lifted_data.x_3).all(), \"Something is wrong with the lifted features x_3.\"\n",
    "        "
   ]
  },
  {
   "cell_type": "code",
   "execution_count": 6,
   "metadata": {},
   "outputs": [],
   "source": [
    "test = TestConcatentionLifting()\n",
    "test.setup_method()\n",
    "test.test_lift_features()"
   ]
  },
  {
   "cell_type": "code",
   "execution_count": 10,
   "metadata": {},
   "outputs": [],
   "source": [
    "\"\"\"Test the message passing module.\"\"\"\n",
    "import pytest\n",
    "import torch\n",
    "import rootutils\n",
    "\n",
    "from topobenchmarkx.transforms.feature_liftings.feature_liftings import SetLifting\n",
    "from topobenchmarkx.transforms.liftings.graph2simplicial import SimplicialCliqueLifting\n",
    "from topobenchmarkx.io.load.loaders import manual_simple_graph\n",
    "\n",
    "class TestSetLifting:\n",
    "    \"\"\"Test the SetLifting class.\"\"\"\n",
    "    def setup_method(self):\n",
    "        # Load the graph\n",
    "        self.data = manual_simple_graph()\n",
    "        \n",
    "        # Initialize a lifting class \n",
    "        self.lifting = SimplicialCliqueLifting(complex_dim=3)\n",
    "        # Initialize the SetLifting class\n",
    "        self.feature_lifting = SetLifting()\n",
    "    \n",
    "    def test_lift_features(self):\n",
    "        # Test the lift_features method\n",
    "        lifted_data = self.lifting.forward(self.data.clone())\n",
    "        del lifted_data.x_1\n",
    "        del lifted_data.x_2\n",
    "        del lifted_data.x_3\n",
    "        lifted_data = self.feature_lifting.forward(lifted_data)\n",
    "        \n",
    "        expected_x1 = torch.tensor([[0, 1],\n",
    "                                    [0, 2],\n",
    "                                    [0, 4],\n",
    "                                    [0, 7],\n",
    "                                    [1, 2],\n",
    "                                    [1, 4],\n",
    "                                    [2, 3],\n",
    "                                    [2, 4],\n",
    "                                    [2, 5],\n",
    "                                    [2, 7],\n",
    "                                    [3, 6],\n",
    "                                    [5, 6],\n",
    "                                    [5, 7]])\n",
    "        \n",
    "        expected_x2 = torch.tensor([[0, 1, 2],\n",
    "                                    [0, 1, 4],\n",
    "                                    [0, 2, 4],\n",
    "                                    [0, 2, 7],\n",
    "                                    [1, 2, 4],\n",
    "                                    [2, 5, 7]])\n",
    "        \n",
    "        expected_x3 = torch.tensor([[0, 1, 2, 4]])\n",
    "        \n",
    "        assert (expected_x1==lifted_data.x_1).all(), \"Something is wrong with the lifted features x_1.\"\n",
    "        assert (expected_x2==lifted_data.x_2).all(), \"Something is wrong with the lifted features x_2.\"\n",
    "        assert (expected_x3==lifted_data.x_3).all(), \"Something is wrong with the lifted features x_3.\""
   ]
  },
  {
   "cell_type": "code",
   "execution_count": 11,
   "metadata": {},
   "outputs": [],
   "source": [
    "test = TestSetLifting()\n",
    "test.setup_method()\n",
    "test.test_lift_features()"
   ]
  },
  {
   "cell_type": "code",
   "execution_count": null,
   "metadata": {},
   "outputs": [],
   "source": []
  }
 ],
 "metadata": {
  "kernelspec": {
   "display_name": "Python 3",
   "language": "python",
   "name": "python3"
  },
  "language_info": {
   "codemirror_mode": {
    "name": "ipython",
    "version": 3
   },
   "file_extension": ".py",
   "mimetype": "text/x-python",
   "name": "python",
   "nbconvert_exporter": "python",
   "pygments_lexer": "ipython3",
   "version": "3.11.3"
  },
  "orig_nbformat": 4
 },
 "nbformat": 4,
 "nbformat_minor": 2
}
