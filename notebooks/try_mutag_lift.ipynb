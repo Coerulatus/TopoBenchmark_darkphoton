{
 "cells": [
  {
   "cell_type": "markdown",
   "metadata": {},
   "source": [
    "## Stuff to load everything"
   ]
  },
  {
   "cell_type": "code",
   "execution_count": 4,
   "metadata": {},
   "outputs": [
    {
     "name": "stderr",
     "output_type": "stream",
     "text": [
      "/usr/local/lib/python3.11/site-packages/hydra/experimental/initialize.py:43: UserWarning: hydra.experimental.initialize() is no longer experimental. Use hydra.initialize()\n",
      "  deprecation_warning(message=message)\n",
      "/usr/local/lib/python3.11/site-packages/hydra/experimental/initialize.py:45: UserWarning: \n",
      "The version_base parameter is not specified.\n",
      "Please specify a compatability version level, or None.\n",
      "Will assume defaults for version 1.1\n",
      "  self.delegate = real_initialize(\n",
      "/usr/local/lib/python3.11/site-packages/hydra/experimental/compose.py:25: UserWarning: hydra.experimental.compose() is no longer experimental. Use hydra.compose()\n",
      "  deprecation_warning(message=message)\n"
     ]
    }
   ],
   "source": [
    "import rootutils\n",
    "\n",
    "rootutils.setup_root(\"/TopoBenchmarkX\", indicator=\".project-root\", pythonpath=True)\n",
    "\n",
    "import hydra\n",
    "from hydra.experimental import initialize, compose\n",
    "\n",
    "initialize(config_path=\"../configs\", job_name=\"job\")\n",
    "config = compose(config_name=\"train.yaml\", return_hydra_config=True)"
   ]
  },
  {
   "cell_type": "code",
   "execution_count": 5,
   "metadata": {},
   "outputs": [
    {
     "name": "stdout",
     "output_type": "stream",
     "text": [
      "Loading hypergraph dataset name: cora\n",
      "number of nodes:2708, feature dimension: 1433\n",
      "number of hyperedges: 1072\n"
     ]
    }
   ],
   "source": [
    "# Load data\n",
    "from topobenchmarkx.data.load.loaders import HypergraphLoader\n",
    "\n",
    "data_loader = HypergraphLoader(config)\n",
    "data = data_loader.load()"
   ]
  },
  {
   "cell_type": "code",
   "execution_count": 6,
   "metadata": {},
   "outputs": [
    {
     "name": "stdout",
     "output_type": "stream",
     "text": [
      "Data(x=[2708, 1433], edge_index=[2708, 4585], y=[2708], n_x=2708, num_hyperedges=1072, num_class=7)\n"
     ]
    }
   ],
   "source": [
    "print(data)"
   ]
  },
  {
   "cell_type": "code",
   "execution_count": 7,
   "metadata": {},
   "outputs": [],
   "source": [
    "import torch_geometric\n",
    "import torch"
   ]
  },
  {
   "cell_type": "code",
   "execution_count": 8,
   "metadata": {},
   "outputs": [],
   "source": [
    "from torch_geometric.utils import k_hop_subgraph\n",
    "from torch_geometric.utils import to_undirected"
   ]
  },
  {
   "cell_type": "code",
   "execution_count": 9,
   "metadata": {},
   "outputs": [],
   "source": [
    "edges = data['edge_index'].coalesce().indices()\n",
    "edges = to_undirected(edges)"
   ]
  },
  {
   "cell_type": "code",
   "execution_count": 10,
   "metadata": {},
   "outputs": [
    {
     "name": "stdout",
     "output_type": "stream",
     "text": [
      "tensor([   2, 3107, 3655])\n"
     ]
    }
   ],
   "source": [
    "subset, _, _, _ = k_hop_subgraph(2, 1, edges)\n",
    "print(subset)"
   ]
  },
  {
   "cell_type": "code",
   "execution_count": 56,
   "metadata": {},
   "outputs": [],
   "source": [
    "import copy\n",
    "\n",
    "class KHopLifting(torch_geometric.transforms.BaseTransform):\n",
    "    def __init__(self, k=1):\n",
    "        super().__init__()\n",
    "        self.k = k\n",
    "        \n",
    "    def forward(self, data: torch_geometric.data.Data, slices: dict = None) -> dict:\n",
    "        data_lifted = copy.copy(data)\n",
    "        \n",
    "        n_nodes = data.x.shape[0]\n",
    "        \n",
    "        if slices is not None:\n",
    "            n_edges = data.edge_index.shape[1]\n",
    "            fix_idxs = torch.zeros((2,n_edges), dtype=slices[\"edge_index\"].dtype)\n",
    "            #slices[\"edge_index\"][-1] -= 1\n",
    "            last_idx = 0\n",
    "            for i, idx in enumerate(slices[\"edge_index\"]):\n",
    "                if not i==0:\n",
    "                    fix_idxs[:,last_idx:idx] = slices[\"x\"][i-1]\n",
    "                    last_idx = idx\n",
    "            data_lifted.edge_index += fix_idxs\n",
    "            \n",
    "        incidence_1 = torch.zeros(n_nodes, n_nodes)\n",
    "        edge_index = torch_geometric.utils.to_undirected(data.edge_index)\n",
    "        for n in range(n_nodes):\n",
    "            neighbors, _, _, _ = k_hop_subgraph(n, self.k, edge_index)\n",
    "            incidence_1[n, neighbors] = 1\n",
    "        incidence_1 = torch.Tensor(incidence_1).to_sparse_coo()\n",
    "        data_lifted[\"hyperedges\"] = incidence_1\n",
    "        return data_lifted\n",
    "    \n",
    "    def __call__(self, data, slices = None):\n",
    "        return self.forward(data, slices)"
   ]
  },
  {
   "cell_type": "code",
   "execution_count": 57,
   "metadata": {},
   "outputs": [
    {
     "name": "stdout",
     "output_type": "stream",
     "text": [
      "{'edge_index': tensor([   0,   38,   66,   94,  138,  160,  222,  256,  300,  326,  364,  402,\n",
      "         448,  498,  526,  570,  620,  642,  680,  708,  748,  786,  824,  878,\n",
      "         944,  982, 1008, 1062, 1100, 1150, 1204, 1254, 1304, 1354, 1382, 1420,\n",
      "        1450, 1486, 1518, 1550, 1578, 1616, 1644, 1688, 1726, 1750, 1804, 1854,\n",
      "        1892, 1936, 1970, 2030, 2090, 2132, 2174, 2204, 2242, 2286, 2344, 2398,\n",
      "        2438, 2476, 2498, 2546, 2590, 2624, 2658, 2704, 2758, 2800, 2830, 2890,\n",
      "        2926, 2960, 3014, 3052, 3072, 3106, 3140, 3178, 3222, 3246, 3302, 3338,\n",
      "        3360, 3414, 3468, 3504, 3528, 3556, 3610, 3668, 3712, 3766, 3810, 3850,\n",
      "        3906, 3946, 3974, 4008, 4042, 4096, 4152, 4196, 4250, 4288, 4334, 4390,\n",
      "        4434, 4500, 4550, 4572, 4606, 4632, 4666, 4692, 4712, 4756, 4810, 4854,\n",
      "        4882, 4938, 4986, 5022, 5044, 5088, 5132, 5176, 5210, 5238, 5260, 5300,\n",
      "        5322, 5368, 5418, 5440, 5486, 5536, 5564, 5586, 5620, 5642, 5686, 5710,\n",
      "        5732, 5766, 5800, 5828, 5862, 5906, 5930, 5956, 6006, 6040, 6066, 6094,\n",
      "        6120, 6166, 6210, 6256, 6284, 6344, 6394, 6444, 6494, 6538, 6590, 6640,\n",
      "        6662, 6688, 6726, 6776, 6802, 6846, 6896, 6944, 6970, 7014, 7042, 7088,\n",
      "        7154, 7176, 7206, 7256, 7306, 7332, 7358, 7406, 7442]), 'x': tensor([   0,   17,   30,   43,   62,   73,  101,  117,  137,  149,  166,  183,\n",
      "         203,  225,  238,  257,  279,  290,  307,  320,  338,  356,  373,  396,\n",
      "         423,  440,  453,  476,  493,  516,  539,  561,  585,  608,  621,  638,\n",
      "         652,  669,  684,  699,  712,  729,  742,  761,  778,  790,  813,  835,\n",
      "         852,  872,  888,  914,  940,  959,  978,  992, 1009, 1030, 1055, 1078,\n",
      "        1097, 1114, 1125, 1148, 1168, 1184, 1200, 1220, 1243, 1262, 1276, 1302,\n",
      "        1318, 1334, 1357, 1375, 1385, 1401, 1417, 1434, 1453, 1465, 1490, 1506,\n",
      "        1517, 1540, 1563, 1579, 1591, 1604, 1627, 1652, 1671, 1694, 1713, 1732,\n",
      "        1757, 1775, 1788, 1803, 1819, 1842, 1868, 1887, 1910, 1927, 1947, 1972,\n",
      "        1991, 2019, 2043, 2054, 2069, 2082, 2098, 2110, 2120, 2141, 2164, 2185,\n",
      "        2198, 2223, 2244, 2261, 2272, 2291, 2311, 2332, 2347, 2361, 2372, 2391,\n",
      "        2402, 2423, 2445, 2456, 2476, 2498, 2511, 2522, 2538, 2549, 2569, 2581,\n",
      "        2592, 2608, 2624, 2637, 2652, 2672, 2684, 2696, 2718, 2733, 2745, 2759,\n",
      "        2771, 2791, 2811, 2831, 2845, 2871, 2895, 2917, 2939, 2958, 2981, 3003,\n",
      "        3014, 3027, 3044, 3068, 3080, 3101, 3123, 3145, 3157, 3177, 3190, 3212,\n",
      "        3240, 3251, 3265, 3287, 3309, 3322, 3334, 3355, 3371]), 'edge_attr': tensor([   0,   38,   66,   94,  138,  160,  222,  256,  300,  326,  364,  402,\n",
      "         448,  498,  526,  570,  620,  642,  680,  708,  748,  786,  824,  878,\n",
      "         944,  982, 1008, 1062, 1100, 1150, 1204, 1254, 1304, 1354, 1382, 1420,\n",
      "        1450, 1486, 1518, 1550, 1578, 1616, 1644, 1688, 1726, 1750, 1804, 1854,\n",
      "        1892, 1936, 1970, 2030, 2090, 2132, 2174, 2204, 2242, 2286, 2344, 2398,\n",
      "        2438, 2476, 2498, 2546, 2590, 2624, 2658, 2704, 2758, 2800, 2830, 2890,\n",
      "        2926, 2960, 3014, 3052, 3072, 3106, 3140, 3178, 3222, 3246, 3302, 3338,\n",
      "        3360, 3414, 3468, 3504, 3528, 3556, 3610, 3668, 3712, 3766, 3810, 3850,\n",
      "        3906, 3946, 3974, 4008, 4042, 4096, 4152, 4196, 4250, 4288, 4334, 4390,\n",
      "        4434, 4500, 4550, 4572, 4606, 4632, 4666, 4692, 4712, 4756, 4810, 4854,\n",
      "        4882, 4938, 4986, 5022, 5044, 5088, 5132, 5176, 5210, 5238, 5260, 5300,\n",
      "        5322, 5368, 5418, 5440, 5486, 5536, 5564, 5586, 5620, 5642, 5686, 5710,\n",
      "        5732, 5766, 5800, 5828, 5862, 5906, 5930, 5956, 6006, 6040, 6066, 6094,\n",
      "        6120, 6166, 6210, 6256, 6284, 6344, 6394, 6444, 6494, 6538, 6590, 6640,\n",
      "        6662, 6688, 6726, 6776, 6802, 6846, 6896, 6944, 6970, 7014, 7042, 7088,\n",
      "        7154, 7176, 7206, 7256, 7306, 7332, 7358, 7406, 7442]), 'y': tensor([  0,   1,   2,   3,   4,   5,   6,   7,   8,   9,  10,  11,  12,  13,\n",
      "         14,  15,  16,  17,  18,  19,  20,  21,  22,  23,  24,  25,  26,  27,\n",
      "         28,  29,  30,  31,  32,  33,  34,  35,  36,  37,  38,  39,  40,  41,\n",
      "         42,  43,  44,  45,  46,  47,  48,  49,  50,  51,  52,  53,  54,  55,\n",
      "         56,  57,  58,  59,  60,  61,  62,  63,  64,  65,  66,  67,  68,  69,\n",
      "         70,  71,  72,  73,  74,  75,  76,  77,  78,  79,  80,  81,  82,  83,\n",
      "         84,  85,  86,  87,  88,  89,  90,  91,  92,  93,  94,  95,  96,  97,\n",
      "         98,  99, 100, 101, 102, 103, 104, 105, 106, 107, 108, 109, 110, 111,\n",
      "        112, 113, 114, 115, 116, 117, 118, 119, 120, 121, 122, 123, 124, 125,\n",
      "        126, 127, 128, 129, 130, 131, 132, 133, 134, 135, 136, 137, 138, 139,\n",
      "        140, 141, 142, 143, 144, 145, 146, 147, 148, 149, 150, 151, 152, 153,\n",
      "        154, 155, 156, 157, 158, 159, 160, 161, 162, 163, 164, 165, 166, 167,\n",
      "        168, 169, 170, 171, 172, 173, 174, 175, 176, 177, 178, 179, 180, 181,\n",
      "        182, 183, 184, 185, 186, 187, 188])}\n"
     ]
    }
   ],
   "source": [
    "data_mutag = torch_geometric.datasets.TUDataset(root=\"../data/graph\",name=\"MUTAG\")\n",
    "data = data_mutag._data\n",
    "slices = data_mutag.slices\n",
    "print(slices)"
   ]
  },
  {
   "cell_type": "code",
   "execution_count": 58,
   "metadata": {},
   "outputs": [
    {
     "name": "stdout",
     "output_type": "stream",
     "text": [
      "MUTAG(188)\n",
      "Data(x=[3371, 7], edge_index=[2, 7442], edge_attr=[7442, 4], y=[188])\n",
      "Data(x=[3371, 7], edge_index=[2, 7442], edge_attr=[7442, 4], y=[188], hyperedges=[3371, 3371])\n"
     ]
    }
   ],
   "source": [
    "lift = KHopLifting(k=1)\n",
    "\n",
    "data_lifted = lift(data, slices)\n",
    "\n",
    "print(data_mutag)\n",
    "print(data)\n",
    "print(data_lifted)"
   ]
  },
  {
   "cell_type": "code",
   "execution_count": 62,
   "metadata": {},
   "outputs": [
    {
     "name": "stdout",
     "output_type": "stream",
     "text": [
      "tensor([0, 1, 5])\n"
     ]
    }
   ],
   "source": [
    "print(data_lifted.hyperedges.indices()[1][data_lifted.hyperedges.indices()[0]==0])"
   ]
  },
  {
   "cell_type": "code",
   "execution_count": 20,
   "metadata": {},
   "outputs": [],
   "source": [
    "def get_cora(cfg):\n",
    "    data_dir = cfg[\"data_dir\"]\n",
    "    print(f\"Loading {cfg['data_domain']} dataset name: {cfg['data_name']}\")\n",
    "    \n",
    "    data = torch_geometric.datasets.Planetoid(data_dir, \"Cora\")\n",
    "    return data"
   ]
  },
  {
   "cell_type": "code",
   "execution_count": 21,
   "metadata": {},
   "outputs": [
    {
     "name": "stdout",
     "output_type": "stream",
     "text": [
      "Loading hypergraph dataset name: cora\n"
     ]
    }
   ],
   "source": [
    "from torch_geometric.loader.dataloader import DataLoader\n",
    "\n",
    "data_cora = get_cora(config.data)"
   ]
  },
  {
   "cell_type": "code",
   "execution_count": 22,
   "metadata": {},
   "outputs": [
    {
     "name": "stdout",
     "output_type": "stream",
     "text": [
      "None\n",
      "Cora()\n",
      "Data(x=[2708, 1433], edge_index=[2, 10556], y=[2708], train_mask=[2708], val_mask=[2708], test_mask=[2708])\n",
      "Data(x=[2708, 1433], edge_index=[2, 10556], y=[2708], train_mask=[2708], val_mask=[2708], test_mask=[2708], hyperedges=[2708, 2708])\n"
     ]
    }
   ],
   "source": [
    "data = data_cora._data\n",
    "slices = data_cora.slices\n",
    "print(slices)\n",
    "data_lifted = lift(data)\n",
    "\n",
    "print(data_cora)\n",
    "print(data)\n",
    "print(data_lifted)"
   ]
  },
  {
   "cell_type": "code",
   "execution_count": 28,
   "metadata": {},
   "outputs": [
    {
     "name": "stdout",
     "output_type": "stream",
     "text": [
      "tensor([   1,    2,  332, 1454, 1666, 1986])\n"
     ]
    }
   ],
   "source": [
    "print(data_lifted.hyperedges.indices()[1][data_lifted.hyperedges.indices()[0]==2])"
   ]
  },
  {
   "cell_type": "code",
   "execution_count": 14,
   "metadata": {},
   "outputs": [
    {
     "name": "stderr",
     "output_type": "stream",
     "text": [
      "/usr/local/lib/python3.11/site-packages/lightning/pytorch/utilities/parsing.py:198: Attribute 'backbone' is an instance of `nn.Module` and is already saved during checkpointing. It is recommended to ignore them using `self.save_hyperparameters(ignore=['backbone'])`.\n",
      "/usr/local/lib/python3.11/site-packages/lightning/pytorch/utilities/parsing.py:198: Attribute 'readout_workaround' is an instance of `nn.Module` and is already saved during checkpointing. It is recommended to ignore them using `self.save_hyperparameters(ignore=['readout_workaround'])`.\n",
      "/usr/local/lib/python3.11/site-packages/lightning/pytorch/utilities/parsing.py:198: Attribute 'readout' is an instance of `nn.Module` and is already saved during checkpointing. It is recommended to ignore them using `self.save_hyperparameters(ignore=['readout'])`.\n"
     ]
    }
   ],
   "source": [
    "model = hydra.utils.instantiate(config.model)"
   ]
  },
  {
   "cell_type": "code",
   "execution_count": null,
   "metadata": {},
   "outputs": [],
   "source": [
    "results = model(data_lifted.x, data_lifted.hyperedges)"
   ]
  }
 ],
 "metadata": {
  "kernelspec": {
   "display_name": "Python 3",
   "language": "python",
   "name": "python3"
  },
  "language_info": {
   "codemirror_mode": {
    "name": "ipython",
    "version": 3
   },
   "file_extension": ".py",
   "mimetype": "text/x-python",
   "name": "python",
   "nbconvert_exporter": "python",
   "pygments_lexer": "ipython3",
   "version": "3.11.3"
  },
  "orig_nbformat": 4
 },
 "nbformat": 4,
 "nbformat_minor": 2
}
