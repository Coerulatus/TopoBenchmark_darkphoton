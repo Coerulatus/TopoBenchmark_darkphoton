{
 "cells": [
  {
   "cell_type": "code",
   "execution_count": null,
   "metadata": {},
   "outputs": [],
   "source": [
    "import numpy as np\n",
    "import pandas as pd"
   ]
  },
  {
   "cell_type": "code",
   "execution_count": null,
   "metadata": {},
   "outputs": [
    {
     "data": {
      "text/html": [
       "<div>\n",
       "<style scoped>\n",
       "    .dataframe tbody tr th:only-of-type {\n",
       "        vertical-align: middle;\n",
       "    }\n",
       "\n",
       "    .dataframe tbody tr th {\n",
       "        vertical-align: top;\n",
       "    }\n",
       "\n",
       "    .dataframe thead th {\n",
       "        text-align: right;\n",
       "    }\n",
       "</style>\n",
       "<table border=\"1\" class=\"dataframe\">\n",
       "  <thead>\n",
       "    <tr style=\"text-align: right;\">\n",
       "      <th></th>\n",
       "      <th>Age</th>\n",
       "      <th>Phyiscal Health</th>\n",
       "      <th>Mental Health</th>\n",
       "      <th>Dental Health</th>\n",
       "      <th>Employment</th>\n",
       "      <th>Stress Keeps Patient from Sleeping</th>\n",
       "      <th>Medication Keeps Patient from Sleeping</th>\n",
       "      <th>Pain Keeps Patient from Sleeping</th>\n",
       "      <th>Bathroom Needs Keeps Patient from Sleeping</th>\n",
       "      <th>Uknown Keeps Patient from Sleeping</th>\n",
       "      <th>Trouble Sleeping</th>\n",
       "      <th>Prescription Sleep Medication</th>\n",
       "      <th>Race</th>\n",
       "      <th>Gender</th>\n",
       "    </tr>\n",
       "  </thead>\n",
       "  <tbody>\n",
       "    <tr>\n",
       "      <th>0</th>\n",
       "      <td>2</td>\n",
       "      <td>4</td>\n",
       "      <td>3</td>\n",
       "      <td>3</td>\n",
       "      <td>3</td>\n",
       "      <td>0</td>\n",
       "      <td>0</td>\n",
       "      <td>0</td>\n",
       "      <td>0</td>\n",
       "      <td>1</td>\n",
       "      <td>2</td>\n",
       "      <td>3</td>\n",
       "      <td>1</td>\n",
       "      <td>2</td>\n",
       "    </tr>\n",
       "    <tr>\n",
       "      <th>1</th>\n",
       "      <td>2</td>\n",
       "      <td>4</td>\n",
       "      <td>2</td>\n",
       "      <td>3</td>\n",
       "      <td>3</td>\n",
       "      <td>1</td>\n",
       "      <td>0</td>\n",
       "      <td>0</td>\n",
       "      <td>1</td>\n",
       "      <td>0</td>\n",
       "      <td>3</td>\n",
       "      <td>3</td>\n",
       "      <td>1</td>\n",
       "      <td>1</td>\n",
       "    </tr>\n",
       "    <tr>\n",
       "      <th>2</th>\n",
       "      <td>2</td>\n",
       "      <td>3</td>\n",
       "      <td>2</td>\n",
       "      <td>3</td>\n",
       "      <td>3</td>\n",
       "      <td>0</td>\n",
       "      <td>0</td>\n",
       "      <td>0</td>\n",
       "      <td>0</td>\n",
       "      <td>1</td>\n",
       "      <td>3</td>\n",
       "      <td>3</td>\n",
       "      <td>4</td>\n",
       "      <td>1</td>\n",
       "    </tr>\n",
       "    <tr>\n",
       "      <th>3</th>\n",
       "      <td>2</td>\n",
       "      <td>3</td>\n",
       "      <td>2</td>\n",
       "      <td>3</td>\n",
       "      <td>3</td>\n",
       "      <td>0</td>\n",
       "      <td>0</td>\n",
       "      <td>0</td>\n",
       "      <td>1</td>\n",
       "      <td>0</td>\n",
       "      <td>3</td>\n",
       "      <td>3</td>\n",
       "      <td>4</td>\n",
       "      <td>2</td>\n",
       "    </tr>\n",
       "    <tr>\n",
       "      <th>4</th>\n",
       "      <td>2</td>\n",
       "      <td>3</td>\n",
       "      <td>3</td>\n",
       "      <td>3</td>\n",
       "      <td>3</td>\n",
       "      <td>1</td>\n",
       "      <td>0</td>\n",
       "      <td>0</td>\n",
       "      <td>0</td>\n",
       "      <td>0</td>\n",
       "      <td>2</td>\n",
       "      <td>3</td>\n",
       "      <td>1</td>\n",
       "      <td>2</td>\n",
       "    </tr>\n",
       "    <tr>\n",
       "      <th>...</th>\n",
       "      <td>...</td>\n",
       "      <td>...</td>\n",
       "      <td>...</td>\n",
       "      <td>...</td>\n",
       "      <td>...</td>\n",
       "      <td>...</td>\n",
       "      <td>...</td>\n",
       "      <td>...</td>\n",
       "      <td>...</td>\n",
       "      <td>...</td>\n",
       "      <td>...</td>\n",
       "      <td>...</td>\n",
       "      <td>...</td>\n",
       "      <td>...</td>\n",
       "    </tr>\n",
       "    <tr>\n",
       "      <th>709</th>\n",
       "      <td>2</td>\n",
       "      <td>2</td>\n",
       "      <td>2</td>\n",
       "      <td>2</td>\n",
       "      <td>3</td>\n",
       "      <td>0</td>\n",
       "      <td>0</td>\n",
       "      <td>0</td>\n",
       "      <td>1</td>\n",
       "      <td>0</td>\n",
       "      <td>3</td>\n",
       "      <td>3</td>\n",
       "      <td>1</td>\n",
       "      <td>1</td>\n",
       "    </tr>\n",
       "    <tr>\n",
       "      <th>710</th>\n",
       "      <td>2</td>\n",
       "      <td>2</td>\n",
       "      <td>2</td>\n",
       "      <td>2</td>\n",
       "      <td>2</td>\n",
       "      <td>1</td>\n",
       "      <td>0</td>\n",
       "      <td>0</td>\n",
       "      <td>0</td>\n",
       "      <td>1</td>\n",
       "      <td>2</td>\n",
       "      <td>3</td>\n",
       "      <td>1</td>\n",
       "      <td>2</td>\n",
       "    </tr>\n",
       "    <tr>\n",
       "      <th>711</th>\n",
       "      <td>2</td>\n",
       "      <td>4</td>\n",
       "      <td>2</td>\n",
       "      <td>3</td>\n",
       "      <td>3</td>\n",
       "      <td>0</td>\n",
       "      <td>0</td>\n",
       "      <td>0</td>\n",
       "      <td>0</td>\n",
       "      <td>0</td>\n",
       "      <td>3</td>\n",
       "      <td>3</td>\n",
       "      <td>1</td>\n",
       "      <td>1</td>\n",
       "    </tr>\n",
       "    <tr>\n",
       "      <th>712</th>\n",
       "      <td>2</td>\n",
       "      <td>3</td>\n",
       "      <td>1</td>\n",
       "      <td>3</td>\n",
       "      <td>3</td>\n",
       "      <td>1</td>\n",
       "      <td>0</td>\n",
       "      <td>1</td>\n",
       "      <td>1</td>\n",
       "      <td>1</td>\n",
       "      <td>3</td>\n",
       "      <td>3</td>\n",
       "      <td>1</td>\n",
       "      <td>2</td>\n",
       "    </tr>\n",
       "    <tr>\n",
       "      <th>713</th>\n",
       "      <td>2</td>\n",
       "      <td>3</td>\n",
       "      <td>2</td>\n",
       "      <td>2</td>\n",
       "      <td>1</td>\n",
       "      <td>1</td>\n",
       "      <td>0</td>\n",
       "      <td>1</td>\n",
       "      <td>1</td>\n",
       "      <td>0</td>\n",
       "      <td>2</td>\n",
       "      <td>3</td>\n",
       "      <td>1</td>\n",
       "      <td>1</td>\n",
       "    </tr>\n",
       "  </tbody>\n",
       "</table>\n",
       "<p>714 rows × 14 columns</p>\n",
       "</div>"
      ],
      "text/plain": [
       "     Age  Phyiscal Health  Mental Health  Dental Health  Employment  \\\n",
       "0      2                4              3              3           3   \n",
       "1      2                4              2              3           3   \n",
       "2      2                3              2              3           3   \n",
       "3      2                3              2              3           3   \n",
       "4      2                3              3              3           3   \n",
       "..   ...              ...            ...            ...         ...   \n",
       "709    2                2              2              2           3   \n",
       "710    2                2              2              2           2   \n",
       "711    2                4              2              3           3   \n",
       "712    2                3              1              3           3   \n",
       "713    2                3              2              2           1   \n",
       "\n",
       "     Stress Keeps Patient from Sleeping  \\\n",
       "0                                     0   \n",
       "1                                     1   \n",
       "2                                     0   \n",
       "3                                     0   \n",
       "4                                     1   \n",
       "..                                  ...   \n",
       "709                                   0   \n",
       "710                                   1   \n",
       "711                                   0   \n",
       "712                                   1   \n",
       "713                                   1   \n",
       "\n",
       "     Medication Keeps Patient from Sleeping  Pain Keeps Patient from Sleeping  \\\n",
       "0                                         0                                 0   \n",
       "1                                         0                                 0   \n",
       "2                                         0                                 0   \n",
       "3                                         0                                 0   \n",
       "4                                         0                                 0   \n",
       "..                                      ...                               ...   \n",
       "709                                       0                                 0   \n",
       "710                                       0                                 0   \n",
       "711                                       0                                 0   \n",
       "712                                       0                                 1   \n",
       "713                                       0                                 1   \n",
       "\n",
       "     Bathroom Needs Keeps Patient from Sleeping  \\\n",
       "0                                             0   \n",
       "1                                             1   \n",
       "2                                             0   \n",
       "3                                             1   \n",
       "4                                             0   \n",
       "..                                          ...   \n",
       "709                                           1   \n",
       "710                                           0   \n",
       "711                                           0   \n",
       "712                                           1   \n",
       "713                                           1   \n",
       "\n",
       "     Uknown Keeps Patient from Sleeping  Trouble Sleeping  \\\n",
       "0                                     1                 2   \n",
       "1                                     0                 3   \n",
       "2                                     1                 3   \n",
       "3                                     0                 3   \n",
       "4                                     0                 2   \n",
       "..                                  ...               ...   \n",
       "709                                   0                 3   \n",
       "710                                   1                 2   \n",
       "711                                   0                 3   \n",
       "712                                   1                 3   \n",
       "713                                   0                 2   \n",
       "\n",
       "     Prescription Sleep Medication  Race  Gender  \n",
       "0                                3     1       2  \n",
       "1                                3     1       1  \n",
       "2                                3     4       1  \n",
       "3                                3     4       2  \n",
       "4                                3     1       2  \n",
       "..                             ...   ...     ...  \n",
       "709                              3     1       1  \n",
       "710                              3     1       2  \n",
       "711                              3     1       1  \n",
       "712                              3     1       2  \n",
       "713                              3     1       1  \n",
       "\n",
       "[714 rows x 14 columns]"
      ]
     },
     "execution_count": 5,
     "metadata": {},
     "output_type": "execute_result"
    }
   ],
   "source": [
    "\n",
    "import pandas as pd\n",
    "df = pd.read_csv('/home/lev/projects/TopoBenchmark/tutorials/NPHA-doctor-visits_2.csv')\n",
    "y = df['Number of Doctors Visited']\n",
    "df = df.drop('Number of Doctors Visited', axis=1)\n",
    "# Assuming 'df' contains your data\n",
    "# Select categorical columns\n",
    "categorical_columns = df.columns  # Include all columns if they are categorical\n",
    "\n",
    "# Convert the DataFrame to numpy for processing\n",
    "data_numpy = df.to_numpy()\n",
    "\n",
    "# Perform one-hot encoding using pandas get_dummies\n",
    "df_one_hot = pd.get_dummies(df, columns=categorical_columns)\n",
    "\n",
    "X =np.array(df_one_hot*1)\n",
    "n_nodex, n_hyperedge = X.shape\n",
    "nodes, edges =  np.where(X==1)\n",
    "init_edge = nodes.max() + 1\n",
    "edges += init_edge\n",
    "edge_index = np.stack([nodes, edges])\n",
    "\n",
    "# features = features = sp.csr_matrix(X, dtype=np.float32)\n",
    "# labels = torch.LongTensor(y.astype(float))"
   ]
  },
  {
   "cell_type": "code",
   "execution_count": 78,
   "metadata": {},
   "outputs": [
    {
     "data": {
      "text/plain": [
       "array([0.18347339, 0.5210084 , 0.29551821])"
      ]
     },
     "execution_count": 78,
     "metadata": {},
     "output_type": "execute_result"
    }
   ],
   "source": [
    "a = np.unique(y, return_counts=True)[1]\n",
    "a/a.sum()"
   ]
  },
  {
   "cell_type": "code",
   "execution_count": null,
   "metadata": {},
   "outputs": [
    {
     "data": {
      "text/plain": [
       "array([[    0,     0,     0, ..., 16241, 16241, 16241],\n",
       "       [16264, 16316, 16324, ..., 16267, 16288, 16327]], dtype=int32)"
      ]
     },
     "execution_count": 72,
     "metadata": {},
     "output_type": "execute_result"
    }
   ],
   "source": []
  },
  {
   "cell_type": "code",
   "execution_count": null,
   "metadata": {},
   "outputs": [],
   "source": [
    "\n"
   ]
  },
  {
   "cell_type": "code",
   "execution_count": null,
   "metadata": {},
   "outputs": [],
   "source": []
  },
  {
   "cell_type": "code",
   "execution_count": null,
   "metadata": {},
   "outputs": [
    {
     "data": {
      "text/plain": [
       "array([[  0,   0,   0, ..., 713, 713, 713],\n",
       "       [714, 719, 724, ..., 755, 756, 761]])"
      ]
     },
     "execution_count": 71,
     "metadata": {},
     "output_type": "execute_result"
    }
   ],
   "source": []
  },
  {
   "cell_type": "code",
   "execution_count": 18,
   "metadata": {},
   "outputs": [],
   "source": [
    "edges_unordered = np.genfromtxt('/home/lev/projects/hypergraph_transformer/data/AllSet_all_raw_data/20newsW100/20newsW100.edges',\n",
    "                                    dtype=np.int32)"
   ]
  },
  {
   "cell_type": "code",
   "execution_count": 21,
   "metadata": {},
   "outputs": [],
   "source": [
    "\n",
    "idx_features_labels = np.genfromtxt('/home/lev/projects/hypergraph_transformer/data/AllSet_all_raw_data/20newsW100/20newsW100.content',\n",
    "                                        dtype=np.dtype(str))\n",
    "# features = np.array(idx_features_labels[:, 1:-1])\n",
    "features = idx_features_labels[:, 1:-1]\n",
    "#     labels = encode_onehot(idx_features_labels[:, -1])\n",
    "labels = idx_features_labels[:, -1].astype(float)\n",
    "\n",
    "\n",
    "\n",
    "# build graph\n",
    "idx = np.array(idx_features_labels[:, 0], dtype=np.int32)\n",
    "idx_map = {j: i for i, j in enumerate(idx)}"
   ]
  },
  {
   "cell_type": "code",
   "execution_count": 23,
   "metadata": {},
   "outputs": [],
   "source": [
    "edges = np.array(list(map(idx_map.get, edges_unordered.flatten())),\n",
    "                     dtype=np.int32).reshape(edges_unordered.shape)"
   ]
  },
  {
   "cell_type": "code",
   "execution_count": 37,
   "metadata": {},
   "outputs": [
    {
     "data": {
      "text/plain": [
       "array([[  400, 16252],\n",
       "       [  400, 16272],\n",
       "       [  400, 16276],\n",
       "       ...,\n",
       "       [  398, 16329],\n",
       "       [  399, 16302],\n",
       "       [  399, 16315]], dtype=int32)"
      ]
     },
     "execution_count": 37,
     "metadata": {},
     "output_type": "execute_result"
    }
   ],
   "source": [
    "idx = np.where(edges.flatten() != edges_unordered.flatten())[0]//2\n",
    "edges[idx]"
   ]
  },
  {
   "cell_type": "code",
   "execution_count": 38,
   "metadata": {},
   "outputs": [
    {
     "data": {
      "text/plain": [
       "array([[  100, 16252],\n",
       "       [  100, 16272],\n",
       "       [  100, 16276],\n",
       "       ...,\n",
       "       [10878, 16329],\n",
       "       [10879, 16302],\n",
       "       [10879, 16315]], dtype=int32)"
      ]
     },
     "execution_count": 38,
     "metadata": {},
     "output_type": "execute_result"
    }
   ],
   "source": [
    "edges_unordered[idx]"
   ]
  },
  {
   "cell_type": "code",
   "execution_count": 41,
   "metadata": {},
   "outputs": [
    {
     "data": {
      "text/plain": [
       "True"
      ]
     },
     "execution_count": 41,
     "metadata": {},
     "output_type": "execute_result"
    }
   ],
   "source": [
    "edge_index = edges.T\n",
    "edge_index[0].max() == edge_index[1].min() - 1"
   ]
  },
  {
   "cell_type": "code",
   "execution_count": 42,
   "metadata": {},
   "outputs": [
    {
     "data": {
      "text/plain": [
       "array([    0,     0,     0, ..., 16241, 16241, 16241], dtype=int32)"
      ]
     },
     "execution_count": 42,
     "metadata": {},
     "output_type": "execute_result"
    }
   ],
   "source": [
    "edge_index[0]"
   ]
  },
  {
   "cell_type": "code",
   "execution_count": 44,
   "metadata": {},
   "outputs": [
    {
     "data": {
      "text/plain": [
       "array([16264, 16316, 16324, ..., 16267, 16288, 16327], dtype=int32)"
      ]
     },
     "execution_count": 44,
     "metadata": {},
     "output_type": "execute_result"
    }
   ],
   "source": [
    "edge_index[1]"
   ]
  },
  {
   "cell_type": "code",
   "execution_count": 48,
   "metadata": {},
   "outputs": [
    {
     "data": {
      "text/plain": [
       "True"
      ]
     },
     "execution_count": 48,
     "metadata": {},
     "output_type": "execute_result"
    }
   ],
   "source": [
    "edges_unordered.T[0].max() < edges_unordered.T[1].min()\n"
   ]
  },
  {
   "cell_type": "code",
   "execution_count": 51,
   "metadata": {},
   "outputs": [
    {
     "data": {
      "text/plain": [
       "array(['0', '1', '2', ..., '16339', '16340', '16341'], dtype='<U5')"
      ]
     },
     "execution_count": 51,
     "metadata": {},
     "output_type": "execute_result"
    }
   ],
   "source": [
    "idx_features_labels[:, 0]"
   ]
  },
  {
   "cell_type": "code",
   "execution_count": null,
   "metadata": {},
   "outputs": [],
   "source": []
  }
 ],
 "metadata": {
  "kernelspec": {
   "display_name": "tb",
   "language": "python",
   "name": "python3"
  },
  "language_info": {
   "codemirror_mode": {
    "name": "ipython",
    "version": 3
   },
   "file_extension": ".py",
   "mimetype": "text/x-python",
   "name": "python",
   "nbconvert_exporter": "python",
   "pygments_lexer": "ipython3",
   "version": "3.11.3"
  }
 },
 "nbformat": 4,
 "nbformat_minor": 2
}
