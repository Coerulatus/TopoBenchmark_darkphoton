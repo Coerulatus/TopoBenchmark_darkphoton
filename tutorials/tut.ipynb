{
 "cells": [
  {
   "cell_type": "code",
   "execution_count": null,
   "metadata": {},
   "outputs": [],
   "source": []
  },
  {
   "cell_type": "code",
   "execution_count": 8,
   "metadata": {},
   "outputs": [
    {
     "name": "stdout",
     "output_type": "stream",
     "text": [
      "Accuracy (ignoring NaNs): 0.8333333134651184\n"
     ]
    }
   ],
   "source": [
    "import torch\n",
    "from torchmetrics.classification import MultilabelAccuracy\n",
    "\n",
    "# Example data\n",
    "preds = torch.tensor([[0.8, 0.2, 0.6], [0.1, 0.7, 0.9]])  # Example predictions (probabilities)\n",
    "target = torch.tensor([[1.0, float('nan'), 0.0], [0.0, 1.0, float('nan')]])  # Target with NaNs\n",
    "\n",
    "# Create a mask to identify valid (non-NaN) elements\n",
    "mask = ~torch.isnan(target)\n",
    "\n",
    "# Apply the mask: set NaNs to 0 in both predictions and targets\n",
    "masked_preds = preds * mask\n",
    "masked_target = torch.where(mask, target, torch.zeros_like(target))\n",
    "\n",
    "# Initialize the multilabel accuracy metric\n",
    "num_labels = preds.shape[1]\n",
    "metric = MultilabelAccuracy(num_labels=num_labels, average='micro')\n",
    "\n",
    "# Update the metric with masked data\n",
    "metric.update(masked_preds, masked_target)\n",
    "accuracy = metric.compute()\n",
    "\n",
    "print(f\"Accuracy (ignoring NaNs): {accuracy}\")\n"
   ]
  },
  {
   "cell_type": "code",
   "execution_count": 12,
   "metadata": {},
   "outputs": [
    {
     "name": "stdout",
     "output_type": "stream",
     "text": [
      "Accuracy (ignoring NaNs): 0.8333333134651184\n"
     ]
    }
   ],
   "source": [
    "import torch\n",
    "from torchmetrics.classification import MultilabelAccuracy\n",
    "\n",
    "# Example data\n",
    "preds = torch.tensor([[0.8, 0.1, 0.6], [0.1, 0.7, 0.1]])  # Example predictions (probabilities)\n",
    "target = torch.tensor([[1.0, float('nan'), 0.0], [0.0, 1.0, float('nan')]])  # Target with NaNs\n",
    "\n",
    "# Create a mask to identify valid (non-NaN) elements\n",
    "mask = ~torch.isnan(target)\n",
    "\n",
    "# Apply the mask: set NaNs to 0 in both predictions and targets\n",
    "masked_preds = preds * mask\n",
    "masked_target = torch.where(mask, target, torch.zeros_like(target))\n",
    "\n",
    "# Initialize the multilabel accuracy metric\n",
    "num_labels = preds.shape[1]\n",
    "metric = MultilabelAccuracy(num_labels=num_labels, average='micro')\n",
    "\n",
    "# Update the metric with masked data\n",
    "metric.update(masked_preds, masked_target)\n",
    "accuracy = metric.compute()\n",
    "\n",
    "print(f\"Accuracy (ignoring NaNs): {accuracy}\")\n"
   ]
  },
  {
   "cell_type": "code",
   "execution_count": null,
   "metadata": {},
   "outputs": [
    {
     "name": "stdout",
     "output_type": "stream",
     "text": [
      "==== Expected input format of Evaluator for ogbg-molpcba\n",
      "{'y_true': y_true, 'y_pred': y_pred}\n",
      "- y_true: numpy ndarray or torch tensor of shape (num_graphs, num_tasks)\n",
      "- y_pred: numpy ndarray or torch tensor of shape (num_graphs, num_tasks)\n",
      "where y_pred stores score values (for computing AUC score),\n",
      "num_task is 128, and each row corresponds to one graph.\n",
      "nan values in y_true are ignored during evaluation.\n",
      "\n",
      "==== Expected output format of Evaluator for ogbg-molpcba\n",
      "{'ap': ap}\n",
      "- ap (float): Average Precision (AP) score averaged across 128 task(s)\n",
      "\n",
      "{'ap': 0.5237956735152016}\n"
     ]
    }
   ],
   "source": [
    "# import ogb\n",
    "# import os\n",
    "\n",
    "# import numpy as np\n",
    "# import pandas as pd\n",
    "# from sklearn.metrics import roc_auc_score, average_precision_score\n",
    "# from ogb.graphproppred import PygGraphPropPredDataset, Evaluator \n",
    "# evaluator = Evaluator('ogbg-molpcba')\n",
    "# print(evaluator.expected_input_format)\n",
    "# print(evaluator.expected_output_format)\n",
    "# y_true = torch.tensor(np.random.randint(2, size = (100,128)))\n",
    "# y_pred = torch.tensor(np.random.randn(100,128))\n",
    "# input_dict = {'y_true': y_true, 'y_pred': y_pred}\n",
    "# result = evaluator.eval(input_dict)\n",
    "# print(result)"
   ]
  },
  {
   "cell_type": "code",
   "execution_count": null,
   "metadata": {},
   "outputs": [],
   "source": []
  }
 ],
 "metadata": {
  "kernelspec": {
   "display_name": "tb_dev",
   "language": "python",
   "name": "python3"
  },
  "language_info": {
   "codemirror_mode": {
    "name": "ipython",
    "version": 3
   },
   "file_extension": ".py",
   "mimetype": "text/x-python",
   "name": "python",
   "nbconvert_exporter": "python",
   "pygments_lexer": "ipython3",
   "version": "3.11.3"
  }
 },
 "nbformat": 4,
 "nbformat_minor": 2
}
