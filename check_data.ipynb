{
 "cells": [
  {
   "cell_type": "code",
   "execution_count": 1,
   "metadata": {},
   "outputs": [],
   "source": [
    "import math\n",
    "from itertools import combinations\n",
    "import numpy as np\n",
    "import matplotlib.pyplot as plt\n",
    "from tqdm.notebook import tqdm\n",
    "from topobenchmark.data.loaders import DarkPhotonDatasetLoader\n",
    "from omegaconf import OmegaConf"
   ]
  },
  {
   "cell_type": "code",
   "execution_count": 2,
   "metadata": {},
   "outputs": [],
   "source": [
    "dataset_config = {\"data_dir\": \"datasets/pointcloud/dark_photons\",\n",
    "                  \"data_name\": \"dark_photons\"}\n",
    "\n",
    "config = OmegaConf.create(dataset_config)"
   ]
  },
  {
   "cell_type": "code",
   "execution_count": 3,
   "metadata": {},
   "outputs": [
    {
     "name": "stdout",
     "output_type": "stream",
     "text": [
      "Loaded dataset containing subset of 1.0\n"
     ]
    }
   ],
   "source": [
    "loader = DarkPhotonDatasetLoader(config)\n",
    "dataset, _ = loader.load()"
   ]
  },
  {
   "cell_type": "code",
   "execution_count": 4,
   "metadata": {},
   "outputs": [
    {
     "name": "stdout",
     "output_type": "stream",
     "text": [
      "DarkPhotonDataset(99992)\n"
     ]
    }
   ],
   "source": [
    "print(dataset)"
   ]
  },
  {
   "cell_type": "code",
   "execution_count": 18,
   "metadata": {},
   "outputs": [
    {
     "data": {
      "text/plain": [
       "torch.Size([99993])"
      ]
     },
     "execution_count": 18,
     "metadata": {},
     "output_type": "execute_result"
    }
   ],
   "source": [
    "dataset.slices['y'].shape"
   ]
  },
  {
   "cell_type": "code",
   "execution_count": 5,
   "metadata": {},
   "outputs": [
    {
     "name": "stdout",
     "output_type": "stream",
     "text": [
      "tensor([[ 0.0000, -0.2029,  0.1801,  0.0153],\n",
      "        [ 0.0000,  0.0216, -0.1803,  0.0240],\n",
      "        [ 0.0000, -0.0027,  0.0705,  0.0109],\n",
      "        [ 2.0000, -0.1479,  0.0967,  0.0138],\n",
      "        [ 2.0000,  0.0000,  0.0000,  0.9953]])\n",
      "tensor(0.0216)\n",
      "10\n"
     ]
    }
   ],
   "source": [
    "data = next(iter(dataset))\n",
    "print(data.x)\n",
    "print(max(data.x[:,1]))\n",
    "print(len(list(combinations(data.x,2))))"
   ]
  },
  {
   "cell_type": "code",
   "execution_count": 6,
   "metadata": {},
   "outputs": [],
   "source": [
    "def get_max_diff(data):\n",
    "    delta_eta = max(data.x[:,1]) - min(data.x[:, 1])\n",
    "    delta_phi = max(data.x[:,2]) - min(data.x[:, 2])\n",
    "    delta_ene = max(data.x[:,3]) - min(data.x[:, 3])\n",
    "    \n",
    "    if delta_phi > math.pi:\n",
    "        print(max(data.x[:,2]), min(data.x[:, 2]))\n",
    "    return delta_eta, delta_phi, delta_ene\n",
    "\n",
    "def get_max_diff_dataset(dataset):\n",
    "    delta_eta = []\n",
    "    delta_phi = []\n",
    "    delta_ene = []\n",
    "    for data in tqdm(dataset):\n",
    "        d_eta, d_phi, d_ene = get_max_diff(data)\n",
    "        delta_eta.append(d_eta)\n",
    "        delta_phi.append(d_phi)\n",
    "        delta_ene.append(d_ene)\n",
    "    return np.array(delta_eta), np.array(delta_phi), np.array(delta_ene)"
   ]
  },
  {
   "cell_type": "code",
   "execution_count": 7,
   "metadata": {},
   "outputs": [
    {
     "data": {
      "application/vnd.jupyter.widget-view+json": {
       "model_id": "292ec273504c4f2881cd17df9eb587ec",
       "version_major": 2,
       "version_minor": 0
      },
      "text/plain": [
       "  0%|          | 0/99992 [00:00<?, ?it/s]"
      ]
     },
     "metadata": {},
     "output_type": "display_data"
    }
   ],
   "source": [
    "delta_eta, delta_phi, delta_ene = get_max_diff_dataset(dataset)"
   ]
  },
  {
   "cell_type": "code",
   "execution_count": 8,
   "metadata": {},
   "outputs": [
    {
     "name": "stdout",
     "output_type": "stream",
     "text": [
      "Max eta diff 0.8508788347244263\n",
      "Max phi diff 0.8139240741729736\n",
      "Max ene diff 1.3011260032653809\n"
     ]
    },
    {
     "data": {
      "text/plain": [
       "<matplotlib.patches.StepPatch at 0x73a0fd1f0190>"
      ]
     },
     "execution_count": 8,
     "metadata": {},
     "output_type": "execute_result"
    },
    {
     "data": {
      "image/png": "[encoded data removed]",
      "text/plain": [
       "<Figure size 800x800 with 3 Axes>"
      ]
     },
     "metadata": {},
     "output_type": "display_data"
    }
   ],
   "source": [
    "print(f\"Max eta diff {np.max(delta_eta)}\")\n",
    "print(f\"Max phi diff {np.max(delta_phi)}\")\n",
    "print(f\"Max ene diff {np.max(delta_ene)}\")\n",
    "\n",
    "hist_eta, bins_eta = np.histogram(delta_eta)\n",
    "hist_phi, bins_phi = np.histogram(delta_phi)\n",
    "hist_ene, bins_ene = np.histogram(delta_ene)\n",
    "\n",
    "\n",
    "fig, axs = plt.subplots(3)\n",
    "axs[0].stairs(hist_eta, bins_eta)\n",
    "axs[1].stairs(hist_phi, bins_phi)\n",
    "axs[2].stairs(hist_ene, bins_ene)"
   ]
  },
  {
   "cell_type": "code",
   "execution_count": 9,
   "metadata": {},
   "outputs": [
    {
     "data": {
      "text/plain": [
       "torch.return_types.max(\n",
       "values=tensor([3.0000, 0.7005, 0.6540, 1.3953]),\n",
       "indices=tensor([     9, 366833, 645286, 688932]))"
      ]
     },
     "execution_count": 9,
     "metadata": {},
     "output_type": "execute_result"
    }
   ],
   "source": [
    "import torch\n",
    "torch.max(dataset.x,0)"
   ]
  },
  {
   "cell_type": "code",
   "execution_count": 10,
   "metadata": {},
   "outputs": [
    {
     "name": "stdout",
     "output_type": "stream",
     "text": [
      "tensor([0, 1, 2, 3, 4])\n"
     ]
    }
   ],
   "source": [
    "print(torch.arange(5))"
   ]
  },
  {
   "cell_type": "code",
   "execution_count": 11,
   "metadata": {},
   "outputs": [
    {
     "data": {
      "text/plain": [
       "tensor([ True,  True,  True,  True,  True,  True,  True,  True,  True, False])"
      ]
     },
     "execution_count": 11,
     "metadata": {},
     "output_type": "execute_result"
    }
   ],
   "source": [
    "torch.isin(dataset.x[:10,0], torch.tensor([0,1,2]))"
   ]
  },
  {
   "cell_type": "code",
   "execution_count": null,
   "metadata": {},
   "outputs": [],
   "source": []
  }
 ],
 "metadata": {
  "kernelspec": {
   "display_name": "topobenchmark",
   "language": "python",
   "name": "python3"
  },
  "language_info": {
   "codemirror_mode": {
    "name": "ipython",
    "version": 3
   },
   "file_extension": ".py",
   "mimetype": "text/x-python",
   "name": "python",
   "nbconvert_exporter": "python",
   "pygments_lexer": "ipython3",
   "version": "3.11.11"
  }
 },
 "nbformat": 4,
 "nbformat_minor": 2
}
