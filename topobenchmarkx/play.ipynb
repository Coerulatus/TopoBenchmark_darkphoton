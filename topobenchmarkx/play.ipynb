{
 "cells": [
  {
   "cell_type": "code",
   "execution_count": 1,
   "metadata": {},
   "outputs": [],
   "source": [
    "import torch\n",
    "\n",
    "run_1 = torch.load(\"/home/lev/projects/TopoBenchmarkX/run_1\")\n",
    "run_2 = torch.load(\"/home/lev/projects/TopoBenchmarkX/run_2\")"
   ]
  },
  {
   "cell_type": "code",
   "execution_count": 2,
   "metadata": {},
   "outputs": [
    {
     "name": "stdout",
     "output_type": "stream",
     "text": [
      "feature_encoder.encoder_0.linear1.weight True\n",
      "feature_encoder.encoder_0.linear1.bias True\n",
      "feature_encoder.encoder_0.linear2.weight True\n",
      "feature_encoder.encoder_0.linear2.bias True\n",
      "feature_encoder.encoder_0.BN.weight True\n",
      "feature_encoder.encoder_0.BN.bias True\n",
      "feature_encoder.encoder_0.BN.mean_scale True\n",
      "feature_encoder.encoder_1.linear1.weight True\n",
      "feature_encoder.encoder_1.linear1.bias True\n",
      "feature_encoder.encoder_1.linear2.weight True\n",
      "feature_encoder.encoder_1.linear2.bias True\n",
      "feature_encoder.encoder_1.BN.weight True\n",
      "feature_encoder.encoder_1.BN.bias True\n",
      "feature_encoder.encoder_1.BN.mean_scale True\n",
      "feature_encoder.encoder_2.linear1.weight True\n",
      "feature_encoder.encoder_2.linear1.bias True\n",
      "feature_encoder.encoder_2.linear2.weight True\n",
      "feature_encoder.encoder_2.linear2.bias True\n",
      "feature_encoder.encoder_2.BN.weight True\n",
      "feature_encoder.encoder_2.BN.bias True\n",
      "feature_encoder.encoder_2.BN.mean_scale True\n",
      "backbone.backbone.proj_0.weight True\n",
      "backbone.backbone.proj_0.bias True\n",
      "backbone.backbone.proj_1.weight True\n",
      "backbone.backbone.proj_1.bias True\n",
      "backbone.backbone.proj_2.weight True\n",
      "backbone.backbone.proj_2.bias True\n",
      "backbone.backbone.layers.0.conv_1_to_1.conv_1_to_1.weight True\n",
      "backbone.backbone.layers.0.conv_1_to_1.conv_2_to_1.weight True\n",
      "backbone.backbone.layers.0.conv_0_to_1.conv_0_to_1.weight True\n",
      "backbone.backbone.layers.0.update_fn.transform.weight True\n",
      "backbone.backbone.layers.0.update_fn.transform.bias True\n",
      "backbone.norm_0.weight True\n",
      "backbone.norm_0.bias True\n",
      "backbone.norm_1.weight True\n",
      "backbone.norm_1.bias True\n",
      "backbone.norm_2.weight True\n",
      "backbone.norm_2.bias True\n",
      "readout.linear.weight True\n",
      "readout.linear.bias True\n"
     ]
    }
   ],
   "source": [
    "for key in run_1.keys():\n",
    "    print(f\"{key} {(run_1[key] == run_2[key]).all()}\")"
   ]
  },
  {
   "cell_type": "code",
   "execution_count": 3,
   "metadata": {},
   "outputs": [],
   "source": [
    "import numpy as np\n",
    "\n",
    "run1 = np.load(\n",
    "    \"/home/lev/projects/TopoBenchmarkX/datasets/data_splits/US-county-demos/train_prop=0.5_global_seed=42/0.npz\",\n",
    "    allow_pickle=True,\n",
    ")"
   ]
  },
  {
   "cell_type": "code",
   "execution_count": 4,
   "metadata": {},
   "outputs": [],
   "source": [
    "run2 = np.load(\n",
    "    \"/home/lev/projects/TopoBenchmarkX/datasets/data_splits/US-county-demos/train_prop=0.5_global_seed=42/0.npz\",\n",
    "    allow_pickle=True,\n",
    ")"
   ]
  },
  {
   "cell_type": "code",
   "execution_count": null,
   "metadata": {},
   "outputs": [],
   "source": []
  },
  {
   "cell_type": "code",
   "execution_count": null,
   "metadata": {},
   "outputs": [],
   "source": []
  }
 ],
 "metadata": {
  "kernelspec": {
   "display_name": "topo",
   "language": "python",
   "name": "python3"
  },
  "language_info": {
   "codemirror_mode": {
    "name": "ipython",
    "version": 3
   },
   "file_extension": ".py",
   "mimetype": "text/x-python",
   "name": "python",
   "nbconvert_exporter": "python",
   "pygments_lexer": "ipython3",
   "version": "3.11.3"
  }
 },
 "nbformat": 4,
 "nbformat_minor": 2
}
